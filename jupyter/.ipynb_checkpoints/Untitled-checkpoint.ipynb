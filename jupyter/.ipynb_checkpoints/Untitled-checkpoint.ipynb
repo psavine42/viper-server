{
 "cells": [
  {
   "cell_type": "code",
   "execution_count": 65,
   "metadata": {},
   "outputs": [],
   "source": [
    "import os\n",
    "import sys\n",
    "sys.path.append('/home/psavine/source/viper')\n",
    "sys.path.append(\"../\")\n",
    "import matplotlib\n",
    "import numpy as np\n",
    "import shapely"
   ]
  },
  {
   "cell_type": "code",
   "execution_count": 13,
   "metadata": {
    "collapsed": true
   },
   "outputs": [
    {
     "data": {
      "text/plain": [
       "['',\n",
       " '/home/psavine/source/viper/jupyter',\n",
       " '/home/psavine/anaconda3/envs/viper/lib/python37.zip',\n",
       " '/home/psavine/anaconda3/envs/viper/lib/python3.7',\n",
       " '/home/psavine/anaconda3/envs/viper/lib/python3.7/lib-dynload',\n",
       " '/home/psavine/anaconda3/envs/viper/lib/python3.7/site-packages',\n",
       " '/home/psavine/anaconda3/envs/viper/lib/python3.7/site-packages/meshcat-0.0.10-py3.7.egg',\n",
       " '/home/psavine/anaconda3/envs/viper/lib/python3.7/site-packages/torchvision-0.2.1-py3.7.egg',\n",
       " '/home/psavine/anaconda3/envs/viper/lib/python3.7/site-packages/IPython/extensions',\n",
       " '/home/psavine/.ipython',\n",
       " '/home/psavine/source/viper',\n",
       " '/home/psavine/source/viper',\n",
       " '../']"
      ]
     },
     "execution_count": 13,
     "metadata": {},
     "output_type": "execute_result"
    }
   ],
   "source": [
    "sys.path"
   ]
  },
  {
   "cell_type": "code",
   "execution_count": 34,
   "metadata": {},
   "outputs": [
    {
     "name": "stderr",
     "output_type": "stream",
     "text": [
      "/home/psavine/anaconda3/envs/viper/lib/python3.7/site-packages/numpy/core/fromnumeric.py:2917: RuntimeWarning: Mean of empty slice.\n",
      "  return mean(axis=axis, dtype=dtype, out=out, **kwargs)\n",
      "/home/psavine/anaconda3/envs/viper/lib/python3.7/site-packages/numpy/core/_methods.py:78: RuntimeWarning: invalid value encountered in true_divide\n",
      "  ret, rcount, out=ret, casting='unsafe', subok=False)\n"
     ]
    },
    {
     "name": "stdout",
     "output_type": "stream",
     "text": [
      "layers :1172 \n",
      "centroids: 1172 \n",
      "starts: 1173 \n",
      "Counter({0: 496, 2: 346, 1: 279, 3: 15, 5: 6, 4: 3})\n"
     ]
    }
   ],
   "source": [
    "import spec.hvac\n",
    "import importlib\n",
    "importlib.reload(spec.hvac)\n",
    "T = spec.hvac.TestHvacSys()\n",
    "T.setUp()\n",
    "system, solids = T.test_build3()"
   ]
  },
  {
   "cell_type": "code",
   "execution_count": 26,
   "metadata": {},
   "outputs": [
    {
     "data": {
      "text/plain": [
       "(array([1.00e+00, 1.20e+01, 1.05e+03, 1.04e+02, 4.00e+00, 0.00e+00,\n",
       "        0.00e+00, 0.00e+00, 0.00e+00, 1.00e+00]),\n",
       " array([-21369.18577294, -13892.53496005,  -6415.88414715,   1060.76666574,\n",
       "          8537.41747863,  16014.06829152,  23490.71910441,  30967.36991731,\n",
       "         38444.0207302 ,  45920.67154309,  53397.32235598]),\n",
       " <a list of 10 Patch objects>)"
      ]
     },
     "execution_count": 26,
     "metadata": {},
     "output_type": "execute_result"
    },
    {
     "data": {
      "image/png": "[encoded data removed]",
      "text/plain": [
       "<Figure size 432x288 with 1 Axes>"
      ]
     },
     "metadata": {
      "needs_background": "light"
     },
     "output_type": "display_data"
    }
   ],
   "source": [
    "[x.process() for x in solids]\n",
    "matplotlib.pyplot.hist([x.volume for x in solids])"
   ]
  },
  {
   "cell_type": "code",
   "execution_count": 27,
   "metadata": {},
   "outputs": [
    {
     "data": {
      "text/plain": [
       "(array([1045.,    0.,    0.,    0.,    0.,    0.,    0.,    0.,    0.,\n",
       "         127.]),\n",
       " array([0. , 0.1, 0.2, 0.3, 0.4, 0.5, 0.6, 0.7, 0.8, 0.9, 1. ]),\n",
       " <a list of 10 Patch objects>)"
      ]
     },
     "execution_count": 27,
     "metadata": {},
     "output_type": "execute_result"
    },
    {
     "data": {
      "image/png": "[encoded data removed]",
      "text/plain": [
       "<Figure size 432x288 with 1 Axes>"
      ]
     },
     "metadata": {
      "needs_background": "light"
     },
     "output_type": "display_data"
    }
   ],
   "source": [
    "matplotlib.pyplot.hist([int(x.is_watertight) for x in solids])"
   ]
  },
  {
   "cell_type": "code",
   "execution_count": 28,
   "metadata": {},
   "outputs": [
    {
     "data": {
      "text/plain": [
       "(array([993.,  92.,  68.,  14.,   3.,   0.,   0.,   1.,   0.,   1.]),\n",
       " array([  4.,  54., 104., 154., 204., 254., 304., 354., 404., 454., 504.]),\n",
       " <a list of 10 Patch objects>)"
      ]
     },
     "execution_count": 28,
     "metadata": {},
     "output_type": "execute_result"
    },
    {
     "data": {
      "image/png": "[encoded data removed]",
      "text/plain": [
       "<Figure size 432x288 with 1 Axes>"
      ]
     },
     "metadata": {
      "needs_background": "light"
     },
     "output_type": "display_data"
    }
   ],
   "source": [
    "matplotlib.pyplot.hist([len(x.points) for x in solids])"
   ]
  },
  {
   "cell_type": "code",
   "execution_count": 172,
   "metadata": {},
   "outputs": [],
   "source": [
    "w2 = [k for k, v in system.res.items() if len(v) == 2][0]\n",
    "solid = solids[w2]\n",
    "n1, n2 = [solids[i] for i in system.res[w2]]"
   ]
  },
  {
   "cell_type": "code",
   "execution_count": 41,
   "metadata": {},
   "outputs": [],
   "source": []
  },
  {
   "cell_type": "code",
   "execution_count": 58,
   "metadata": {},
   "outputs": [
    {
     "ename": "QhullError",
     "evalue": "QH6022 qhull input error: 2'th dimension's new bounds [-0.5, 0.5] too wide for\nexisting bounds [-8.9, -8.9]\n\nWhile executing:  | qhull i Pp QbB Qt\nOptions selected for Qhull 2015.2.r 2016/01/18:\n  run-id 696331738  incidence  Pprecision-ignore  QbBound-unit-box 0.5\n  Qtriangulate  _pre-merge  _zero-centrum\n",
     "output_type": "error",
     "traceback": [
      "\u001b[0;31m---------------------------------------------------------------------------\u001b[0m",
      "\u001b[0;31mQhullError\u001b[0m                                Traceback (most recent call last)",
      "\u001b[0;32m<ipython-input-58-5acf052b4882>\u001b[0m in \u001b[0;36m<module>\u001b[0;34m()\u001b[0m\n\u001b[0;32m----> 1\u001b[0;31m \u001b[0mvisual\u001b[0m\u001b[0;34m.\u001b[0m\u001b[0mvisualize_indexed\u001b[0m\u001b[0;34m(\u001b[0m\u001b[0;34m[\u001b[0m\u001b[0mx\u001b[0m\u001b[0;34m.\u001b[0m\u001b[0mconvex_hull\u001b[0m \u001b[0;32mfor\u001b[0m \u001b[0mx\u001b[0m \u001b[0;32min\u001b[0m \u001b[0msolids\u001b[0m\u001b[0;34m]\u001b[0m\u001b[0;34m)\u001b[0m\u001b[0;34m\u001b[0m\u001b[0m\n\u001b[0m",
      "\u001b[0;32m<ipython-input-58-5acf052b4882>\u001b[0m in \u001b[0;36m<listcomp>\u001b[0;34m(.0)\u001b[0m\n\u001b[0;32m----> 1\u001b[0;31m \u001b[0mvisual\u001b[0m\u001b[0;34m.\u001b[0m\u001b[0mvisualize_indexed\u001b[0m\u001b[0;34m(\u001b[0m\u001b[0;34m[\u001b[0m\u001b[0mx\u001b[0m\u001b[0;34m.\u001b[0m\u001b[0mconvex_hull\u001b[0m \u001b[0;32mfor\u001b[0m \u001b[0mx\u001b[0m \u001b[0;32min\u001b[0m \u001b[0msolids\u001b[0m\u001b[0;34m]\u001b[0m\u001b[0;34m)\u001b[0m\u001b[0;34m\u001b[0m\u001b[0m\n\u001b[0m",
      "\u001b[0;32m~/anaconda3/envs/viper/lib/python3.7/site-packages/trimesh/caching.py\u001b[0m in \u001b[0;36mget_cached\u001b[0;34m(*args, **kwargs)\u001b[0m\n\u001b[1;32m     86\u001b[0m         \u001b[0mtic\u001b[0m \u001b[0;34m=\u001b[0m \u001b[0mtime\u001b[0m\u001b[0;34m.\u001b[0m\u001b[0mtime\u001b[0m\u001b[0;34m(\u001b[0m\u001b[0;34m)\u001b[0m\u001b[0;34m\u001b[0m\u001b[0m\n\u001b[1;32m     87\u001b[0m         \u001b[0;31m# value not in cache so execute the function\u001b[0m\u001b[0;34m\u001b[0m\u001b[0;34m\u001b[0m\u001b[0m\n\u001b[0;32m---> 88\u001b[0;31m         \u001b[0mvalue\u001b[0m \u001b[0;34m=\u001b[0m \u001b[0mfunction\u001b[0m\u001b[0;34m(\u001b[0m\u001b[0;34m*\u001b[0m\u001b[0margs\u001b[0m\u001b[0;34m,\u001b[0m \u001b[0;34m**\u001b[0m\u001b[0mkwargs\u001b[0m\u001b[0;34m)\u001b[0m\u001b[0;34m\u001b[0m\u001b[0m\n\u001b[0m\u001b[1;32m     89\u001b[0m         \u001b[0;31m# store the value\u001b[0m\u001b[0;34m\u001b[0m\u001b[0;34m\u001b[0m\u001b[0m\n\u001b[1;32m     90\u001b[0m         \u001b[0mself\u001b[0m\u001b[0;34m.\u001b[0m\u001b[0m_cache\u001b[0m\u001b[0;34m.\u001b[0m\u001b[0mcache\u001b[0m\u001b[0;34m[\u001b[0m\u001b[0mname\u001b[0m\u001b[0;34m]\u001b[0m \u001b[0;34m=\u001b[0m \u001b[0mvalue\u001b[0m\u001b[0;34m\u001b[0m\u001b[0m\n",
      "\u001b[0;32m~/anaconda3/envs/viper/lib/python3.7/site-packages/trimesh/base.py\u001b[0m in \u001b[0;36mconvex_hull\u001b[0;34m(self)\u001b[0m\n\u001b[1;32m   1872\u001b[0m           \u001b[0mMesh\u001b[0m \u001b[0mof\u001b[0m \u001b[0mconvex\u001b[0m \u001b[0mhull\u001b[0m \u001b[0mof\u001b[0m \u001b[0mcurrent\u001b[0m \u001b[0mmesh\u001b[0m\u001b[0;34m\u001b[0m\u001b[0m\n\u001b[1;32m   1873\u001b[0m         \"\"\"\n\u001b[0;32m-> 1874\u001b[0;31m         \u001b[0mhull\u001b[0m \u001b[0;34m=\u001b[0m \u001b[0mconvex\u001b[0m\u001b[0;34m.\u001b[0m\u001b[0mconvex_hull\u001b[0m\u001b[0;34m(\u001b[0m\u001b[0mself\u001b[0m\u001b[0;34m)\u001b[0m\u001b[0;34m\u001b[0m\u001b[0m\n\u001b[0m\u001b[1;32m   1875\u001b[0m         \u001b[0;32mreturn\u001b[0m \u001b[0mhull\u001b[0m\u001b[0;34m\u001b[0m\u001b[0m\n\u001b[1;32m   1876\u001b[0m \u001b[0;34m\u001b[0m\u001b[0m\n",
      "\u001b[0;32m~/anaconda3/envs/viper/lib/python3.7/site-packages/trimesh/convex.py\u001b[0m in \u001b[0;36mconvex_hull\u001b[0;34m(obj, qhull_options)\u001b[0m\n\u001b[1;32m     50\u001b[0m \u001b[0;34m\u001b[0m\u001b[0m\n\u001b[1;32m     51\u001b[0m     c = spatial.ConvexHull(points.reshape((-1, 3)),\n\u001b[0;32m---> 52\u001b[0;31m                            qhull_options=qhull_options)\n\u001b[0m\u001b[1;32m     53\u001b[0m \u001b[0;34m\u001b[0m\u001b[0m\n\u001b[1;32m     54\u001b[0m     \u001b[0;31m# hull object doesn't remove unreferenced vertices\u001b[0m\u001b[0;34m\u001b[0m\u001b[0;34m\u001b[0m\u001b[0m\n",
      "\u001b[0;32mqhull.pyx\u001b[0m in \u001b[0;36mscipy.spatial.qhull.ConvexHull.__init__\u001b[0;34m()\u001b[0m\n",
      "\u001b[0;32mqhull.pyx\u001b[0m in \u001b[0;36mscipy.spatial.qhull._Qhull.__init__\u001b[0;34m()\u001b[0m\n",
      "\u001b[0;31mQhullError\u001b[0m: QH6022 qhull input error: 2'th dimension's new bounds [-0.5, 0.5] too wide for\nexisting bounds [-8.9, -8.9]\n\nWhile executing:  | qhull i Pp QbB Qt\nOptions selected for Qhull 2015.2.r 2016/01/18:\n  run-id 696331738  incidence  Pprecision-ignore  QbBound-unit-box 0.5\n  Qtriangulate  _pre-merge  _zero-centrum\n"
     ]
    }
   ],
   "source": [
    "visual.visualize_indexed([x.convex_hull for x in solids])"
   ]
  },
  {
   "cell_type": "code",
   "execution_count": 255,
   "metadata": {},
   "outputs": [],
   "source": [
    "def connector_approx(mesh, conn_ix):\n",
    "    adj_ixs = np.where(mesh.face_adjacency == conn_ix)[0]\n",
    "    angles = np.where(np.isclose( mesh.face_adjacency_angles[adj_ixs],  0.0, atol=1e-04))\n",
    "    adj_with_same = adj_ixs[angles].squeeze()\n",
    "    # print('adj_with_same', adj_with_same)\n",
    "    adj_pair = mesh.face_adjacency[adj_with_same]\n",
    "    vertices = mesh.faces[adj_pair]\n",
    "    unique_v = np.unique(np.asarray(vertices))\n",
    "    \n",
    "    center = mesh.vertices[unique_v].mean(axis=0)\n",
    "    return center\n",
    "\n",
    "\n",
    "def connector_face(mesh1, mesh2):\n",
    "    ch1 = mesh1.convex_hull\n",
    "    ch2 = mesh2.convex_hull\n",
    "    # print(ch1.is_watertight, ch2.is_watertight)\n",
    "    loc1, ray_ix1, tri_ix1 = ch1.ray.intersects_location([ch1.centroid], [ch1.centroid - ch2.centroid])\n",
    "    loc2, ray_ix2, tri_ix2 = ch2.ray.intersects_location([ch2.centroid], [ch2.centroid - ch1.centroid])\n",
    "    \n",
    "    # print('nface : ', ch1.faces.shape[0], ch2.faces.shape[0] )\n",
    "    # print('tri_ix1 : ', tri_ix1, tri_ix2)\n",
    "    # get any faces that can be merged \n",
    "    # new estimate will be the centroid of these \n",
    "    # print(loc1, loc2)\n",
    "    cent1 = connector_approx(ch1, tri_ix1)\n",
    "    cent2 = connector_approx(ch2, tri_ix2)\n",
    "    return cent1, cent2\n",
    "    "
   ]
  },
  {
   "cell_type": "code",
   "execution_count": 249,
   "metadata": {},
   "outputs": [
    {
     "name": "stdout",
     "output_type": "stream",
     "text": [
      "True True\n",
      "nface :  28 60\n",
      "tri_ix1 :  [4] [44]\n",
      "adj_with_same 27\n",
      "adj_with_same []\n",
      "True True\n",
      "nface :  28 32\n",
      "tri_ix1 :  [26] [31]\n",
      "adj_with_same 35\n",
      "adj_with_same 35\n",
      "[735.25486272 -14.0287443   -1.84595069] [738.12986272 -10.9037443   -1.84595069]\n"
     ]
    },
    {
     "name": "stderr",
     "output_type": "stream",
     "text": [
      "/home/psavine/anaconda3/envs/viper/lib/python3.7/site-packages/ipykernel_launcher.py:10: RuntimeWarning: Mean of empty slice.\n",
      "  # Remove the CWD from sys.path while we load stuff.\n",
      "/home/psavine/anaconda3/envs/viper/lib/python3.7/site-packages/numpy/core/_methods.py:78: RuntimeWarning: invalid value encountered in true_divide\n",
      "  ret, rcount, out=ret, casting='unsafe', subok=False)\n"
     ]
    }
   ],
   "source": []
  },
  {
   "cell_type": "code",
   "execution_count": null,
   "metadata": {},
   "outputs": [],
   "source": []
  },
  {
   "cell_type": "code",
   "execution_count": 129,
   "metadata": {},
   "outputs": [
    {
     "name": "stdout",
     "output_type": "stream",
     "text": [
      "You can open the visualizer by visiting the following URL:\n",
      "http://127.0.0.1:7000/static/\n"
     ]
    }
   ],
   "source": [
    "from trimesh.path.path import Path\n",
    "from src.ui import visual\n",
    "from src.ui.visual import meshcat\n",
    "\n",
    "importlib.reload(visual)\n",
    "\n",
    "v = visual.Visualizer(zmq_url=visual._zmq_url)\n",
    "xs = [solid, n1, n2]\n",
    "# visual.visualize_indexed([x.convex_hull for x in xs])"
   ]
  },
  {
   "cell_type": "code",
   "execution_count": 119,
   "metadata": {},
   "outputs": [],
   "source": [
    "handle = '1537921493'\n",
    "import random\n",
    "\n",
    "\n",
    "def line_hull(m1, m2):\n",
    "    # hnd = str(random.random())\n",
    "    _p = np.array([0,0,0.1])\n",
    "    _y = np.array([0,0.1,0])\n",
    "    _x = np.array([0.1,0,0])\n",
    "    c1 = m1.centroid\n",
    "    c2 = m2.centroid\n",
    "    ls = trimesh.Trimesh(vertices=[c1, c2, c1 + _p, c2 + _p, c1 - _p, c2 - _p, c1 + _y, c2 + _y, c1 - _y, c2 - _y])\n",
    "    mg = meshcat.geometry.ObjMeshGeometry(ls.convex_hull.export(file_type='obj'))\n",
    "    v[handle + '/' + str(random.random())].set_object(mg)"
   ]
  },
  {
   "cell_type": "code",
   "execution_count": 251,
   "metadata": {},
   "outputs": [
    {
     "name": "stdout",
     "output_type": "stream",
     "text": [
      "You can open the visualizer by visiting the following URL:\n",
      "http://127.0.0.1:7000/static/\n"
     ]
    },
    {
     "data": {
      "text/plain": [
       "'1537926890'"
      ]
     },
     "execution_count": 251,
     "metadata": {},
     "output_type": "execute_result"
    }
   ],
   "source": [
    "# visual.visualize_points([c3])\n",
    "visual.visualize_points([x.convex_hull.centroid for x in xs ])"
   ]
  },
  {
   "cell_type": "code",
   "execution_count": 252,
   "metadata": {},
   "outputs": [
    {
     "name": "stdout",
     "output_type": "stream",
     "text": [
      "You can open the visualizer by visiting the following URL:\n",
      "http://127.0.0.1:7000/static/\n"
     ]
    },
    {
     "data": {
      "text/plain": [
       "'1537926977'"
      ]
     },
     "execution_count": 252,
     "metadata": {},
     "output_type": "execute_result"
    }
   ],
   "source": []
  },
  {
   "cell_type": "code",
   "execution_count": 256,
   "metadata": {},
   "outputs": [
    {
     "name": "stdout",
     "output_type": "stream",
     "text": [
      "[735.25486272 -14.0287443   -1.84595069] [738.12986272 -10.9037443   -1.84595069]\n"
     ]
    },
    {
     "name": "stderr",
     "output_type": "stream",
     "text": [
      "/home/psavine/anaconda3/envs/viper/lib/python3.7/site-packages/ipykernel_launcher.py:10: RuntimeWarning: Mean of empty slice.\n",
      "  # Remove the CWD from sys.path while we load stuff.\n",
      "/home/psavine/anaconda3/envs/viper/lib/python3.7/site-packages/numpy/core/_methods.py:78: RuntimeWarning: invalid value encountered in true_divide\n",
      "  ret, rcount, out=ret, casting='unsafe', subok=False)\n"
     ]
    }
   ],
   "source": [
    "c1, c2 = connector_face(solid, n1)\n",
    "c3, c4 = connector_face(solid, n2)\n",
    "\n",
    "print(c1, c3)"
   ]
  },
  {
   "cell_type": "code",
   "execution_count": null,
   "metadata": {},
   "outputs": [],
   "source": []
  }
 ],
 "metadata": {
  "kernelspec": {
   "display_name": "Python 3",
   "language": "python",
   "name": "python3"
  },
  "language_info": {
   "codemirror_mode": {
    "name": "ipython",
    "version": 3
   },
   "file_extension": ".py",
   "mimetype": "text/x-python",
   "name": "python",
   "nbconvert_exporter": "python",
   "pygments_lexer": "ipython3",
   "version": "3.7.0"
  }
 },
 "nbformat": 4,
 "nbformat_minor": 2
}
