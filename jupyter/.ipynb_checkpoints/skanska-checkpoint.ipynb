{
 "cells": [
  {
   "cell_type": "code",
   "execution_count": 331,
   "metadata": {},
   "outputs": [
    {
     "name": "stdout",
     "output_type": "stream",
     "text": [
      "You can open the visualizer by visiting the following URL:\n",
      "http://127.0.0.1:7000/static/\n"
     ]
    }
   ],
   "source": [
    "import os\n",
    "import sys\n",
    "import time\n",
    "import pprint\n",
    "from collections import Counter, defaultdict\n",
    "sys.path.append('/home/psavine/source/viper')\n",
    "sys.path.append(\"../\")\n",
    "\n",
    "\n",
    "import numpy as np\n",
    "import importlib\n",
    "import matplotlib.pyplot as plt\n",
    "\n",
    "import spec.hvac\n",
    "import src.viper as viper\n",
    "\n",
    "import src.geom as geom\n",
    "import lib.geo as geo\n",
    "from src.geomType import GeomType\n",
    "from scipy import spatial\n",
    "import src.ui.visual as viz3\n",
    "\n",
    "\n",
    "from trimesh.path.path import Path\n",
    "from src.ui import visual\n",
    "from itertools import chain\n",
    "from src.ui.visual import meshcat\n",
    "import shapely.geometry as sg\n",
    "import trimesh\n",
    "import pandas as pd\n",
    "import matplotlib\n",
    "import math\n",
    "import spec.scenario as scene\n",
    "import src.geombase as geombase\n",
    "\n",
    "RL = importlib.reload\n",
    "importlib.reload(visual)\n",
    "VIZ = viz3.VIZ\n",
    "\n",
    "_dir = '/home/psavine/source/viper/data/sample/'\n"
   ]
  },
  {
   "cell_type": "code",
   "execution_count": 444,
   "metadata": {},
   "outputs": [
    {
     "name": "stdout",
     "output_type": "stream",
     "text": [
      "4439\n"
     ]
    }
   ],
   "source": [
    "json = scene.load_from_json('/home/psavine/source/viper/data/sample/test_sk2.json')\n",
    "train_mesh = spec.hvac.TestTrain.preprocess_(json)\n",
    "print(len(train_mesh))\n",
    "categories = {x.category for i, x in enumerate(train_mesh)}\n",
    "categories = {x:i for i, x in enumerate(categories)}\n",
    "train_ids = {x.id:x for x in train_mesh}\n",
    "train_ixs = {x.id:i for i, x in enumerate(train_mesh)}\n",
    "vs2 = viper.IndexSystem()\n",
    "# ixrs = vs2(train_mesh)"
   ]
  },
  {
   "cell_type": "code",
   "execution_count": 20,
   "metadata": {
    "collapsed": true
   },
   "outputs": [
    {
     "name": "stdout",
     "output_type": "stream",
     "text": [
      "spheres shape:  (100808, 4)\n"
     ]
    },
    {
     "ename": "MemoryError",
     "evalue": "",
     "output_type": "error",
     "traceback": [
      "\u001b[0;31m---------------------------------------------------------------------------\u001b[0m",
      "\u001b[0;31mMemoryError\u001b[0m                               Traceback (most recent call last)",
      "\u001b[0;32m<ipython-input-20-29f5a8e1ddf7>\u001b[0m in \u001b[0;36m<module>\u001b[0;34m()\u001b[0m\n\u001b[0;32m----> 1\u001b[0;31m \u001b[0mixrs\u001b[0m \u001b[0;34m=\u001b[0m \u001b[0mvs2\u001b[0m\u001b[0;34m(\u001b[0m\u001b[0mtrain_mesh\u001b[0m\u001b[0;34m)\u001b[0m\u001b[0;34m\u001b[0m\u001b[0m\n\u001b[0m",
      "\u001b[0;32m~/source/viper/src/viper.py\u001b[0m in \u001b[0;36m__call__\u001b[0;34m(self, solids, **kwargs)\u001b[0m\n\u001b[1;32m    745\u001b[0m \u001b[0;34m\u001b[0m\u001b[0m\n\u001b[1;32m    746\u001b[0m         \u001b[0mprint\u001b[0m\u001b[0;34m(\u001b[0m\u001b[0;34m'spheres shape: '\u001b[0m\u001b[0;34m,\u001b[0m \u001b[0mself\u001b[0m\u001b[0;34m.\u001b[0m\u001b[0m_spheres\u001b[0m\u001b[0;34m.\u001b[0m\u001b[0mshape\u001b[0m\u001b[0;34m)\u001b[0m\u001b[0;34m\u001b[0m\u001b[0m\n\u001b[0;32m--> 747\u001b[0;31m         \u001b[0mself\u001b[0m\u001b[0;34m.\u001b[0m\u001b[0madj\u001b[0m \u001b[0;34m=\u001b[0m \u001b[0msrc\u001b[0m\u001b[0;34m.\u001b[0m\u001b[0mgeom\u001b[0m\u001b[0;34m.\u001b[0m\u001b[0msphere_intersections\u001b[0m\u001b[0;34m(\u001b[0m\u001b[0mself\u001b[0m\u001b[0;34m.\u001b[0m\u001b[0m_spheres\u001b[0m\u001b[0;34m,\u001b[0m \u001b[0mself\u001b[0m\u001b[0;34m.\u001b[0m\u001b[0m_spheres\u001b[0m\u001b[0;34m)\u001b[0m\u001b[0;34m\u001b[0m\u001b[0m\n\u001b[0m\u001b[1;32m    748\u001b[0m \u001b[0;34m\u001b[0m\u001b[0m\n\u001b[1;32m    749\u001b[0m         \u001b[0;32mreturn\u001b[0m \u001b[0mself\u001b[0m\u001b[0;34m.\u001b[0m\u001b[0madj\u001b[0m\u001b[0;34m\u001b[0m\u001b[0m\n",
      "\u001b[0;32m~/source/viper/src/geombase.py\u001b[0m in \u001b[0;36msphere_intersections\u001b[0;34m(sources, targets)\u001b[0m\n\u001b[1;32m     62\u001b[0m     \"\"\"\n\u001b[1;32m     63\u001b[0m     \u001b[0;31m# [ n, 4 ] -> [ m, n, 4]\u001b[0m\u001b[0;34m\u001b[0m\u001b[0;34m\u001b[0m\u001b[0m\n\u001b[0;32m---> 64\u001b[0;31m     \u001b[0mm_sources\u001b[0m \u001b[0;34m=\u001b[0m \u001b[0mnp\u001b[0m\u001b[0;34m.\u001b[0m\u001b[0mtile\u001b[0m\u001b[0;34m(\u001b[0m\u001b[0msources\u001b[0m\u001b[0;34m,\u001b[0m \u001b[0;34m(\u001b[0m\u001b[0mtargets\u001b[0m\u001b[0;34m.\u001b[0m\u001b[0mshape\u001b[0m\u001b[0;34m[\u001b[0m\u001b[0;36m0\u001b[0m\u001b[0;34m]\u001b[0m\u001b[0;34m,\u001b[0m \u001b[0;36m1\u001b[0m\u001b[0;34m,\u001b[0m \u001b[0;36m1\u001b[0m\u001b[0;34m)\u001b[0m\u001b[0;34m)\u001b[0m\u001b[0;34m.\u001b[0m\u001b[0mtranspose\u001b[0m\u001b[0;34m(\u001b[0m\u001b[0;34m(\u001b[0m\u001b[0;36m1\u001b[0m\u001b[0;34m,\u001b[0m \u001b[0;36m0\u001b[0m\u001b[0;34m,\u001b[0m \u001b[0;36m2\u001b[0m\u001b[0;34m)\u001b[0m\u001b[0;34m)\u001b[0m\u001b[0;34m\u001b[0m\u001b[0m\n\u001b[0m\u001b[1;32m     65\u001b[0m \u001b[0;34m\u001b[0m\u001b[0m\n\u001b[1;32m     66\u001b[0m     \u001b[0;31m# [ m, 4 ] -> [ m, n, 4]\u001b[0m\u001b[0;34m\u001b[0m\u001b[0;34m\u001b[0m\u001b[0m\n",
      "\u001b[0;32m~/anaconda3/envs/viper/lib/python3.7/site-packages/numpy/lib/shape_base.py\u001b[0m in \u001b[0;36mtile\u001b[0;34m(A, reps)\u001b[0m\n\u001b[1;32m   1153\u001b[0m         \u001b[0;32mfor\u001b[0m \u001b[0mdim_in\u001b[0m\u001b[0;34m,\u001b[0m \u001b[0mnrep\u001b[0m \u001b[0;32min\u001b[0m \u001b[0mzip\u001b[0m\u001b[0;34m(\u001b[0m\u001b[0mc\u001b[0m\u001b[0;34m.\u001b[0m\u001b[0mshape\u001b[0m\u001b[0;34m,\u001b[0m \u001b[0mtup\u001b[0m\u001b[0;34m)\u001b[0m\u001b[0;34m:\u001b[0m\u001b[0;34m\u001b[0m\u001b[0m\n\u001b[1;32m   1154\u001b[0m             \u001b[0;32mif\u001b[0m \u001b[0mnrep\u001b[0m \u001b[0;34m!=\u001b[0m \u001b[0;36m1\u001b[0m\u001b[0;34m:\u001b[0m\u001b[0;34m\u001b[0m\u001b[0m\n\u001b[0;32m-> 1155\u001b[0;31m                 \u001b[0mc\u001b[0m \u001b[0;34m=\u001b[0m \u001b[0mc\u001b[0m\u001b[0;34m.\u001b[0m\u001b[0mreshape\u001b[0m\u001b[0;34m(\u001b[0m\u001b[0;34m-\u001b[0m\u001b[0;36m1\u001b[0m\u001b[0;34m,\u001b[0m \u001b[0mn\u001b[0m\u001b[0;34m)\u001b[0m\u001b[0;34m.\u001b[0m\u001b[0mrepeat\u001b[0m\u001b[0;34m(\u001b[0m\u001b[0mnrep\u001b[0m\u001b[0;34m,\u001b[0m \u001b[0;36m0\u001b[0m\u001b[0;34m)\u001b[0m\u001b[0;34m\u001b[0m\u001b[0m\n\u001b[0m\u001b[1;32m   1156\u001b[0m             \u001b[0mn\u001b[0m \u001b[0;34m//=\u001b[0m \u001b[0mdim_in\u001b[0m\u001b[0;34m\u001b[0m\u001b[0m\n\u001b[1;32m   1157\u001b[0m     \u001b[0;32mreturn\u001b[0m \u001b[0mc\u001b[0m\u001b[0;34m.\u001b[0m\u001b[0mreshape\u001b[0m\u001b[0;34m(\u001b[0m\u001b[0mshape_out\u001b[0m\u001b[0;34m)\u001b[0m\u001b[0;34m\u001b[0m\u001b[0m\n",
      "\u001b[0;31mMemoryError\u001b[0m: "
     ]
    }
   ],
   "source": [
    "ixrs = vs2(train_mesh)\n"
   ]
  },
  {
   "cell_type": "code",
   "execution_count": 472,
   "metadata": {},
   "outputs": [],
   "source": [
    "[VIZ['mesh/' +x].delete() \n",
    " for x in {x.category for i, x in enumerate(train_mesh)}]\n",
    "r = [viz3.viz_mesh(x, handle='mesh/' + x.meta['category'], opacity=0.4) \n",
    "     for x in train_mesh]\n"
   ]
  },
  {
   "cell_type": "code",
   "execution_count": 27,
   "metadata": {
    "collapsed": true
   },
   "outputs": [
    {
     "name": "stdout",
     "output_type": "stream",
     "text": [
      "17\n"
     ]
    },
    {
     "data": {
      "text/plain": [
       "[None,\n",
       " None,\n",
       " None,\n",
       " None,\n",
       " None,\n",
       " None,\n",
       " None,\n",
       " None,\n",
       " None,\n",
       " None,\n",
       " None,\n",
       " None,\n",
       " None,\n",
       " None,\n",
       " None,\n",
       " None,\n",
       " None]"
      ]
     },
     "execution_count": 27,
     "metadata": {},
     "output_type": "execute_result"
    }
   ],
   "source": [
    "no = []\n",
    "for p in train_mesh:\n",
    "    if p.category == 'Pipes':\n",
    "        if geombase.is_cylinder(p) == False:\n",
    "            no.append(p)\n",
    "print(len(no))\n",
    "\n",
    "[viz3.viz_mesh(x, handle='no', opacity=0.8) for x in no]"
   ]
  },
  {
   "cell_type": "code",
   "execution_count": 671,
   "metadata": {},
   "outputs": [],
   "source": [
    "import dxfgrabber\n",
    "dxf = dxfgrabber.readfile(_dir + 'WGFPR07m.dxf')\n",
    "bodies = list(filter(lambda x: isinstance(x, dxfgrabber.dxfentities.Body), dxf.entities))\n",
    "lines = list(filter(lambda x: isinstance(x, dxfgrabber.dxfentities.Line), dxf.entities))\n",
    "inserts = list(filter(lambda x: isinstance(x, dxfgrabber.dxfentities.Insert), dxf.entities))"
   ]
  },
  {
   "cell_type": "code",
   "execution_count": 672,
   "metadata": {},
   "outputs": [],
   "source": [
    "import src.formats.sat as sab\n",
    "importlib.reload(sab)\n",
    "reader = sab.SABReader()\n",
    "acis_ents = [reader.read_single(x.acis) for x in bodies]"
   ]
  },
  {
   "cell_type": "code",
   "execution_count": 618,
   "metadata": {},
   "outputs": [
    {
     "name": "stdout",
     "output_type": "stream",
     "text": [
      "[-9.62376960e+05 -2.08797535e+05 -8.97536903e+01] 0.03937007874015748\n"
     ]
    }
   ],
   "source": [
    "CAD_SCALE = 1 /  25.39999999999999858 \n",
    "ANGLE = 346.9658914 "
   ]
  },
  {
   "cell_type": "code",
   "execution_count": 673,
   "metadata": {},
   "outputs": [],
   "source": [
    "\n",
    "\n",
    "def as_line(this, k='point'):\n",
    "    pts = this.children_of_type(k)\n",
    "    if len(pts) == 2:\n",
    "        p1, p2 = pts\n",
    "        return geo.Line(geo.Point(p1.geom), geo.Point(p2.geom))\n",
    "\n",
    "\n",
    "    \n",
    "def as_linexf(this, trs=np.array([0.,0.,0.]), scale=1.):\n",
    "    pts = this.children_of_type('point')\n",
    "    if len(pts) == 2:\n",
    "        xf = this.children_of_type('transform')\n",
    "        if len(xf) == 1:\n",
    "            try:\n",
    "                p1, p2 = pts\n",
    "                p11 = (xf[0].apply(p1.geom) *  scale) + trs\n",
    "                p12 = (xf[0].apply(p2.geom) *  scale) + trs\n",
    "                return geo.Line(geo.Point(p11), geo.Point(p12))\n",
    "            except Exception as e:\n",
    "                return None\n",
    "            \n",
    "            \n",
    "def dxf_line_to_line(dxline, bsxf=np.array([0.,0.,0.])):\n",
    "    p1, p2 = [np.array(x) - bsxf for x in [dxline.start, dxline.end]] \n",
    "    return geo.Line(geo.Point(p1), geo.Point(p1))\n",
    "            \n",
    "    \n",
    "def pull_points(acis_blocks):\n",
    "    for i, acis_ents in enumerate(acis_blocks):\n",
    "        pts = list(filter(lambda x: isinstance(x, sab.ACEllipse), acis_ents))\n",
    "        if len(pts) == 2:\n",
    "            p1, p2 = pts\n",
    "            viz3.viz_line(p1.geom, p2.geom, handle='cad/{}'.format(i))\n",
    "\n",
    "            \n",
    "def viz_pts(pts, handle, clear=True, **kwargs):\n",
    "    if clear is True:\n",
    "        VIZ[handle].delete()\n",
    "    for i, p in enumerate(pts):\n",
    "        viz3.viz_point(p, handle=handle+'/{}'.format(i), **kwargs)"
   ]
  },
  {
   "cell_type": "code",
   "execution_count": 674,
   "metadata": {
    "scrolled": true
   },
   "outputs": [
    {
     "name": "stdout",
     "output_type": "stream",
     "text": [
      "Line(Point(0, 0, 0), Point(0.0671196, 0.0155378, -0.000652639))\n"
     ]
    }
   ],
   "source": [
    "CAD_TRANSLATE = -1* np.array(list(as_linexf(acis_ents[0], scale=CAD_SCALE).points[0].coordinates))\n",
    "\n",
    "print(as_linexf(acis_ents[0], scale=CAD_SCALE, trs=CAD_TRANSLATE)) \n"
   ]
  },
  {
   "cell_type": "markdown",
   "metadata": {},
   "source": [
    "# Create Final Lines and Visualize"
   ]
  },
  {
   "cell_type": "code",
   "execution_count": 735,
   "metadata": {},
   "outputs": [
    {
     "name": "stdout",
     "output_type": "stream",
     "text": [
      "2387\n",
      "[[ 26.59407129 -57.14410531  -2.82960107]\n",
      " [ 26.59407129 -57.14410531  -3.09042784]]\n",
      "[[ 26.59407129 -57.14410531  -2.82960107]\n",
      " [ 26.59407129 -57.14410531  -3.09042784]]\n"
     ]
    }
   ],
   "source": [
    "pipes_lines = list(filter(None, \n",
    "                          [as_linexf(x, \n",
    "                                     scale=CAD_SCALE, \n",
    "                                     trs=CAD_TRANSLATE) \n",
    "                           for x in acis_ents]))\n",
    "\n",
    "pipes_long = [x for x in pipes_lines if 0.2 < x.length ]\n",
    "print(len(pipes_long))\n",
    "print(pipes_long[0].numpy)\n",
    "mv = -1*pipes_long[0].numpy[0]\n",
    "\n",
    "\n",
    "# pipes_long = move_lines(pipes_long, mv)\n",
    "print(pipes_long[0].numpy)\n",
    "\n",
    "VIZ['line'].delete()\n",
    "viz3.viz_by_index(pipes_long, handle='line', thickness=0.05)"
   ]
  },
  {
   "cell_type": "code",
   "execution_count": 739,
   "metadata": {},
   "outputs": [
    {
     "data": {
      "text/plain": [
       "2387"
      ]
     },
     "execution_count": 739,
     "metadata": {},
     "output_type": "execute_result"
    }
   ],
   "source": [
    "# RL(viz3)\n",
    "def viz_nodes(ndict):\n",
    "    if isinstance(ndict, dict):\n",
    "        nlist = list(ndict.values())\n",
    "    else:\n",
    "        nlist = ndict\n",
    "    viz3.viz_nodes(nlist, \n",
    "                   handle='nodes', \n",
    "                   thickness=0.08, \n",
    "                   opacity=0.6, \n",
    "                   clear=True)\n",
    "\n",
    "def viz_head():\n",
    "    ddd = [viz3.viz_point(np.array(x.insert) - bsxf,  \n",
    "                          handle='cadhead/{}'.format(i), \n",
    "                          radius=3, \n",
    "                          opacity=0.5) \n",
    "           for i, x in enumerate(sprks)]\n",
    "    \n",
    "\n",
    "def viz_sprink_to_edge(sbests, sprinks):\n",
    "    VIZ['headlink'].delete()\n",
    "    for i, (spr_ix, ngh) in enumerate(sbests.items()):\n",
    "        if ngh is None:\n",
    "            continue\n",
    "        g1, g2 = ngh.geom\n",
    "        pt3d = geo.Point(sprinks[spr_ix])\n",
    "        cp = geo.Point(g1).midpoint_to(geo.Point(g2))\n",
    "        viz3.viz(geo.Line(pt3d, cp), handle='headlink/{}'.format(i))\n"
   ]
  },
  {
   "cell_type": "markdown",
   "metadata": {},
   "source": [
    "## read inserts and visualize"
   ]
  },
  {
   "cell_type": "code",
   "execution_count": 676,
   "metadata": {},
   "outputs": [
    {
     "name": "stdout",
     "output_type": "stream",
     "text": [
      "num sprinklers 1403\n",
      "[-0.29995507 -0.10728958 -0.01013926]\n",
      "[-15.4164401  312.02305601 -44.87684516]\n",
      "[  463.1242295  -8199.00927198  1126.13126295]\n",
      "[  2.81679729 -10.77258462   0.        ]\n"
     ]
    }
   ],
   "source": [
    "sprinklers = [x for x in inserts if x.name == '3DM_UPR']\n",
    "print('num sprinklers' , len(sprinklers))\n",
    "print(mv)\n",
    "print(CAD_TRANSLATE)\n",
    "sample = np.array(sprinklers[2].insert)\n",
    "print(sample)\n",
    "sfn = lambda x: CAD_TRANSLATE  + (np.asarray(x.insert) * CAD_SCALE)\n",
    "\n",
    "sprinklers2 = np.array(list(map(sfn, sprinklers)))\n",
    "sprinklers2[:, -1] = 0\n",
    "print(sprinklers2[2])\n",
    "\n",
    "viz_pts(sprinklers2, 'cadhead', clear=True, radius=0.2, opacity=0.5)"
   ]
  },
  {
   "cell_type": "code",
   "execution_count": 667,
   "metadata": {},
   "outputs": [
    {
     "name": "stdout",
     "output_type": "stream",
     "text": [
      "(12221656.40777959, 2651479.239581287, 119595.3506505346)\n",
      "[  0.53071663  -0.84342008 -27.38569499]\n",
      "[0. 0. 0.]\n",
      "====\n",
      "[ 1.22282598e+07  2.64961477e+06 -2.40957508e+02]\n",
      "(0.03937, 0.03937, 0.03937)\n",
      "[239.07040373 -83.22527695 -54.36336123]\n",
      "[238.5396871  -82.38185686 -26.97766624]\n",
      "[238.53968709927258, -82.38185686281126, -26.977666244992026]\n"
     ]
    }
   ],
   "source": [
    "pipes_long[1415].t\n",
    "\n",
    "print(inserts[0].insert)\n",
    "zer = sprinklers[0].insert\n",
    "sfn2 = lambda x: ( np.asarray(x.insert) - zer ) * CAD_SCALE\n",
    "sfn3 = lambda x: [(i - z) * CAD_SCALE  for i, z in zip(x.insert, zer)]\n",
    "print(sfn(sprinklers[0]))\n",
    "print(sfn2(sprinklers[0]))\n",
    "\n",
    "print('====')\n",
    "print(np.array(sprinklers[1249].insert))\n",
    "print(sprinklers[1249].scale)\n",
    "print(sfn(sprinklers[1249]))\n",
    "print(sfn2(sprinklers[1249]))\n",
    "print(sfn3(sprinklers[1249]))\n",
    "\n",
    "\n",
    "CAD_TRAN= -1* np.array(list(as_linexf(acis_ents[0]).points[0].coordinates))\n",
    "\n",
    "sprinklers3 = np.array(list(map(sfn2, sprinklers)))\n",
    "sprinklers3[:, -1] = 0.\n",
    "viz_pts(sprinklers3, 'cadhead', clear=True, radius=0.5)\n",
    "# print(as_linexf(acis_ents[0], trs=CAD_TRAN, scale=1/12))"
   ]
  },
  {
   "cell_type": "code",
   "execution_count": 640,
   "metadata": {},
   "outputs": [
    {
     "name": "stdout",
     "output_type": "stream",
     "text": [
      "[[ 26.59407129 -57.15714665  -4.7562743 ]\n",
      " [239.19849933   9.30063095  -4.69475855]]\n"
     ]
    }
   ],
   "source": [
    "lowest_ix = np.argsort(pts_index[:, -1])\n",
    "lowest_spr = pts_index[lowest_ix[0:2]]\n",
    "\n",
    "line_CAD = geo.Line(geo.Point(lowest_spr[0]), geo.Point(lowest_spr[1]))\n",
    "viz3.viz(line_CAD, handle='low/cad')\n",
    "line_REV = geo.Line(geo.Point(ln[0]), geo.Point(ln[1]))\n",
    "print(line_CAD.length / line_REV.length)\n",
    "line_CAD.angle_to(line_REV)"
   ]
  },
  {
   "cell_type": "code",
   "execution_count": 1104,
   "metadata": {},
   "outputs": [],
   "source": [
    "from scipy.spatial.distance import cdist \n",
    "\n",
    "\n",
    "def edge_with_id(root_node, eid):\n",
    "    for n in root_node.__iter__(True, True):\n",
    "        for e in n.neighbors(True, True, True):\n",
    "            if e.id == eid:\n",
    "                return e\n",
    "\n",
    "def node_with_id(nd, eid):\n",
    "    for n in nd.__iter__(fwd=True, bkwd=True):\n",
    "        if n.id == eid:\n",
    "            return n\n",
    "\n",
    "        \n",
    "def apply_fn(root_node, fn, edges=True):\n",
    "\n",
    "    seen = set()\n",
    "    for n in root_node.__iter__(True, True):\n",
    "        for e in n.neighbors(True, True, edges):\n",
    "            if e.id not in seen:\n",
    "                seen.add(e.id)\n",
    "                res = fn(e)\n",
    "                if res is not None:\n",
    "                    yield e\n",
    "\n",
    "                    \n",
    "def apply_node_edge_fn(root_node, fn):\n",
    "    seen = set()\n",
    "    for n in root_node.__iter__(True, True):\n",
    "        for e in n.neighbors(True, True, True):\n",
    "            if e.id not in seen:\n",
    "                seen.add(e.id)\n",
    "                res = fn(n, e)\n",
    "                if res is not None:\n",
    "                    yield res           \n",
    "        \n",
    "        \n",
    "def apply_node_fn(root_node, fn):\n",
    "    apply_fn(root_node, fn, edges=False)\n",
    "                    \n",
    "        \n",
    "def wrap_yield(fn):\n",
    "    def run_x(x):\n",
    "        res = fn(x)\n",
    "        if res is True:\n",
    "            return x\n",
    "        else:\n",
    "            return None\n",
    "    return run_x"
   ]
  },
  {
   "cell_type": "code",
   "execution_count": 1141,
   "metadata": {},
   "outputs": [
    {
     "data": {
      "text/plain": [
       "Line(Point(26.5941, -57.1441, -2.8296), Point(26.5941, -57.1441, -3.09043))"
      ]
     },
     "execution_count": 1141,
     "metadata": {},
     "output_type": "execute_result"
    }
   ],
   "source": [
    "pipes_long[0]"
   ]
  },
  {
   "cell_type": "code",
   "execution_count": 1153,
   "metadata": {},
   "outputs": [
    {
     "name": "stdout",
     "output_type": "stream",
     "text": [
      "2387 2183\n",
      "3738 48\n"
     ]
    }
   ],
   "source": [
    "import src.formats.skansk as sks\n",
    "RL(sks)\n",
    "\"\"\"\n",
    "--------------------------------------------------\n",
    "SAVE THESE SETTINGS. \n",
    "\n",
    "FOR FUCKS SAKE DO NOT DELETE !!!!!!!!!!!!!!!\n",
    "\n",
    "FILTER = 0.3\n",
    "CONNECT = 0.4\n",
    "--------------------------------------------------\n",
    "\"\"\"\n",
    "\n",
    "FILTER = 0.3\n",
    "CONNECT = 0.4\n",
    "pipes_long2 = [x for x in pipes_long if x.length > FILTER]\n",
    "\n",
    "print(len(pipes_long), len(pipes_long2))\n",
    "\n",
    "\n",
    "pairs2, tree, pts_ind = sks.connect_by_pairs(pipes_long2, factor=CONNECT)  \n",
    "node_dict2 = sks.make_node_dict(pairs2, pts_ind)\n",
    "node_list, comps_starts = sks.connected_components(list(node_dict2.values()))\n",
    "comps_starts = np.asarray(comps_starts)\n",
    "root_nodes = [node_list[i] for i in comps_starts]\n",
    "\n",
    "\n",
    "\n",
    "print(len(node_list), len(comps_starts))"
   ]
  },
  {
   "cell_type": "code",
   "execution_count": 1166,
   "metadata": {},
   "outputs": [],
   "source": [
    "VIZ['nodec/0'].delete()\n",
    "viz3.viz_iter(root_nodes[0], handle='grp1/0' , opacity=0.3)"
   ]
  },
  {
   "cell_type": "code",
   "execution_count": 1157,
   "metadata": {},
   "outputs": [],
   "source": [
    "for i in range(len(comps_starts)):\n",
    "    viz3.viz_iter(root_nodes[i], handle='nodec/{}'.format(i), clear=True, opacity=0.3)"
   ]
  },
  {
   "cell_type": "code",
   "execution_count": 1167,
   "metadata": {
    "scrolled": true
   },
   "outputs": [
    {
     "name": "stdout",
     "output_type": "stream",
     "text": [
      "SpatialRoot seen nodes :  330\n",
      "7204193\n",
      "<Node>:(251.91783675953363, 32.84297688723444, 0.7925554139393256) : {'pt_index': 3511}\n",
      "EdgeDirectorQ seen nodes :  330\n",
      "7204193\n"
     ]
    }
   ],
   "source": [
    "RL(sks)\n",
    "\n",
    "SR = sks.SpatialRoot()\n",
    "SR.__call__(root_nodes[0])\n",
    "\n",
    "ROOT = node_with_id(root_nodes[0], SR.best)\n",
    "print(ROOT.id)\n",
    "print(ROOT)\n",
    "VIZ['ROOT'].delete()\n",
    "VIZ['test'].delete()\n",
    "viz3.viz_point(ROOT.geom, handle='ROOT', radius=0.5)\n",
    "\n",
    "ROOT = sks.EdgeDirectorQ()(ROOT)\n",
    "print(ROOT.id)"
   ]
  },
  {
   "cell_type": "code",
   "execution_count": 1165,
   "metadata": {},
   "outputs": [
    {
     "name": "stdout",
     "output_type": "stream",
     "text": [
      "DetectTriangles seen nodes :  330\n",
      "DetectElbows seen nodes :  347\n",
      "elbows: 28 , tirangles 33\n"
     ]
    }
   ],
   "source": [
    "RL(sks)\n",
    "\n",
    "FIRST_EDGE = ROOT.neighbors(edges=True)[0]\n",
    "elbow = sks.DetectElbows()\n",
    "triangle = sks.DetectTriangles()\n",
    "\n",
    "triangle(ROOT)\n",
    "elbow(FIRST_EDGE)\n",
    "\n",
    "print('elbows: {} , tirangles {}'.format(len( elbow.result), len(triangle.result)))"
   ]
  },
  {
   "cell_type": "code",
   "execution_count": 1161,
   "metadata": {},
   "outputs": [
    {
     "name": "stdout",
     "output_type": "stream",
     "text": [
      "[]\n"
     ]
    }
   ],
   "source": [
    "print(ROOT.predecessors())"
   ]
  },
  {
   "cell_type": "markdown",
   "metadata": {},
   "source": [
    "### Connect Heads"
   ]
  },
  {
   "cell_type": "code",
   "execution_count": 964,
   "metadata": {},
   "outputs": [
    {
     "name": "stdout",
     "output_type": "stream",
     "text": [
      "num roots 13\n"
     ]
    }
   ],
   "source": [
    "RL(sks)\n",
    "\n",
    "# import src.propogate as gp\n",
    "\n",
    "\n",
    "# print('num roots', len(root_nodes))\n",
    "# VIZ['nodec'].delete()\n",
    "\n",
    "\n"
   ]
  },
  {
   "cell_type": "code",
   "execution_count": 1064,
   "metadata": {},
   "outputs": [
    {
     "name": "stdout",
     "output_type": "stream",
     "text": [
      "neighsbase 2 2\n",
      "4972111 9558096\n",
      "True False False\n",
      "----\n",
      "9558096 4521736\n",
      "False True False\n",
      "----\n"
     ]
    }
   ],
   "source": [
    "import itertools\n",
    "from shapely.geometry import Point, LineString\n",
    "mxdist = 10\n",
    "root = root_nodes[0]\n",
    "\n",
    "RL(gp)\n",
    "RL(sks)\n",
    "\n",
    "TOL = 1/64\n",
    "\n",
    "\n",
    "e = edge_with_id(root_nodes[0], 9162514)\n",
    "\n",
    "ss = e.source\n",
    "tt = e.target\n",
    "crvs = ss.neighbors(True, True, True)\n",
    "crvt = tt.neighbors(True, True, True)\n",
    "print('neighsbase', len(crvs),  len(crvt) )\n",
    "\n",
    "ppn = sks.take_n(sks.edge_iter(tt), 10)\n",
    "ppa = sks.take_n(sks.edge_iter(ss), 10)\n",
    "# [print(np.round(nd.curve.length, 6),  nd.id, nd.get('is_pipe')) for nd in  ppa ]\n",
    "viz3.viz_edges(crvs, handle='test/p', clear=True, opacity=0.3)\n",
    "viz3.viz_edges(crvt, handle='test/a', clear=True, opacity=0.3)\n",
    "\n",
    "def combos(crvs_):\n",
    "    for e1, e2 in itertools.combinations(crvs_, 2):\n",
    "        l1, l2 = e1.curve, e2.curve\n",
    "\n",
    "        siml = sks.similar_dir_abs(l1, l2, TOL)\n",
    "        print(e1.id,  e2.id)\n",
    "        print(e1.get('is_pipe'), e2.get('is_pipe'), siml)\n",
    "    print('----')\n"
   ]
  },
  {
   "cell_type": "code",
   "execution_count": 1069,
   "metadata": {},
   "outputs": [],
   "source": [
    "RL(sks)\n",
    "# tertools.chain(*list(\n",
    "# itr = list(apply_node_edge_fn(nd, sks.is_triangle))\n",
    "# res = list(filter(lambda x: x is not False, itr))\n",
    "\n",
    "#for r in res:\n",
    "#    if len(r) == 2:\n",
    "VIZ['nodec'].delete() \n",
    "viz3.viz_iter(root_nodes[0], handle='nodec/0', \n",
    "                   opacity=0.3)  \n",
    "#viz3.viz_edges(res, handle='tris/0', clear=True, opacity=0.6)\n"
   ]
  },
  {
   "cell_type": "code",
   "execution_count": 1048,
   "metadata": {},
   "outputs": [],
   "source": [
    "viz3.viz_point(nd.geom, handle = 'ROOT')"
   ]
  },
  {
   "cell_type": "code",
   "execution_count": 1075,
   "metadata": {},
   "outputs": [
    {
     "name": "stdout",
     "output_type": "stream",
     "text": [
      "5515311 4\n",
      "1\n",
      "triangle\n",
      "triangle\n",
      "2\n",
      "REMOVED 6116856\n",
      "err <Node>:(30.948776964350245, -109.46242583060632, 0.4981551055924669) : {'pt_index': 344}\n",
      "triangle\n",
      "triangle\n",
      "triangle\n",
      "triangle\n",
      "3\n",
      "triangle\n",
      "triangle\n",
      "triangle\n",
      "triangle\n",
      "4\n",
      "triangle\n",
      "triangle\n",
      "triangle\n",
      "triangle\n",
      "5\n",
      "5515311 3\n",
      "1\n",
      "triangle\n",
      "triangle\n",
      "2\n",
      "triangle\n",
      "triangle\n",
      "triangle\n",
      "triangle\n",
      "3\n",
      "triangle\n",
      "triangle\n",
      "triangle\n",
      "triangle\n",
      "4\n",
      "triangle\n",
      "triangle\n",
      "triangle\n",
      "triangle\n",
      "5\n"
     ]
    }
   ],
   "source": [
    "RL(sks)\n",
    "sks.RemoveSubLoops()(e.target, num_iter=1)"
   ]
  },
  {
   "cell_type": "code",
   "execution_count": 1074,
   "metadata": {},
   "outputs": [
    {
     "name": "stdout",
     "output_type": "stream",
     "text": [
      "3266819 {'is_pipe': False}\n",
      "--\n",
      "3821523 {'is_pipe': False}\n",
      "3266819 {'is_pipe': False}\n",
      "2493827 {'is_pipe': True}\n",
      "--\n",
      "6116856 {'is_pipe': True}\n",
      "3266819 {'is_pipe': False}\n",
      "7799079 {'is_pipe': False}\n"
     ]
    },
    {
     "data": {
      "text/plain": [
       "[None, None, None]"
      ]
     },
     "execution_count": 1074,
     "metadata": {},
     "output_type": "execute_result"
    }
   ],
   "source": [
    "# viz3.viz_iter(root_nodes[0], handle='nodec/0', clear=True, opacity=0.2)\n",
    "# VIZ['nodes'].delete() 8375224\n",
    "RL(sks)\n",
    "# 3266819\n",
    "e = edge_with_id(root_nodes[0], 3266819)\n",
    "print(e.id,  e.data)\n",
    "print('--')\n",
    "[print(x.id, x.data) for x in e.source.neighbors(edges=True)]\n",
    "print('--')\n",
    "[print(x.id, x.data) for x in e.target.neighbors(edges=True)]\n",
    "\n",
    "# sks.RemoveSubLoops()(e.target, num_iter=1)\n",
    "# w_is_elbow = wrap_yield(sks.is_elbow)\n",
    "\n",
    "# res = list(apply_fn(root_nodes[0], w_is_elbow))\n",
    "# print(len(res))\n",
    "# viz3.viz_edges(res, handle='elbow/0', clear=True, opacity=0.6)"
   ]
  },
  {
   "cell_type": "code",
   "execution_count": 1012,
   "metadata": {},
   "outputs": [],
   "source": [
    "# RL(gp)\n",
    "#RL(sks)\n",
    "\n",
    "viz3.viz_edges(root_nodes[0].neighbors(True, True, True), handle='root')"
   ]
  },
  {
   "cell_type": "code",
   "execution_count": null,
   "metadata": {},
   "outputs": [],
   "source": []
  },
  {
   "cell_type": "code",
   "execution_count": 751,
   "metadata": {},
   "outputs": [
    {
     "name": "stdout",
     "output_type": "stream",
     "text": [
      "(1403,)\n"
     ]
    }
   ],
   "source": [
    "RL(sks)\n",
    "\n",
    "closest = sks.connect_heads2(node_list, sprinklers2[:, 0:2])\n",
    "for i, ix in enumerate(closest):\n",
    "    pt = node_list[ix].as_np\n",
    "    \n",
    "    viz3.viz_line(sprinklers2[i], pt, handle='headlink/{}'.format(i))"
   ]
  },
  {
   "cell_type": "code",
   "execution_count": 760,
   "metadata": {},
   "outputs": [
    {
     "data": {
      "text/plain": [
       "1402"
      ]
     },
     "execution_count": 760,
     "metadata": {},
     "output_type": "execute_result"
    }
   ],
   "source": [
    "np.argmax( np.sum((sprinklers2 - sprinklers2.mean(axis=0))**2, axis=-1)**0.5 )"
   ]
  },
  {
   "cell_type": "code",
   "execution_count": null,
   "metadata": {},
   "outputs": [],
   "source": []
  },
  {
   "cell_type": "markdown",
   "metadata": {
    "scrolled": true
   },
   "source": [
    "## MISC TESTING\n"
   ]
  },
  {
   "cell_type": "code",
   "execution_count": 1031,
   "metadata": {},
   "outputs": [
    {
     "name": "stdout",
     "output_type": "stream",
     "text": [
      "<Edge>:((58.17832921906061, -128.39112719713268, 0.3211833299301574), (57.19465048862049, -124.14188319947925, 0.29480801374617727)), {'is_pipe': True}\n"
     ]
    },
    {
     "data": {
      "text/plain": [
       "<src.structs.node.Node at 0x7f013a46cac8>"
      ]
     },
     "execution_count": 1031,
     "metadata": {},
     "output_type": "execute_result"
    }
   ],
   "source": [
    "import src.propogate\n",
    "# RL(src.propogate.base)\n",
    "RL(sks)\n",
    "\n",
    "root = edge_with_id(root_nodes[0], 1275321)\n",
    "nd = root.source\n",
    "print(root)\n",
    "sks.EdgeDirectorQ()(nd)\n"
   ]
  },
  {
   "cell_type": "code",
   "execution_count": 1032,
   "metadata": {},
   "outputs": [],
   "source": [
    "gp.EdgeRouter()(nd)"
   ]
  },
  {
   "cell_type": "code",
   "execution_count": 1035,
   "metadata": {},
   "outputs": [
    {
     "data": {
      "text/plain": [
       "1158"
      ]
     },
     "execution_count": 1035,
     "metadata": {},
     "output_type": "execute_result"
    }
   ],
   "source": [
    "VIZ['nodec'].delete() \n",
    "viz3.viz_iter(nd, handle='nodec/0', \n",
    "                   opacity=0.3)  \n",
    "\n",
    "len(list(nd.__iter__(fwd=True, bkwd=True)))"
   ]
  },
  {
   "cell_type": "code",
   "execution_count": 357,
   "metadata": {},
   "outputs": [
    {
     "data": {
      "text/plain": [
       "array([  391.57757842, -7925.38562256,  1139.87186712])"
      ]
     },
     "execution_count": 357,
     "metadata": {},
     "output_type": "execute_result"
    }
   ],
   "source": [
    "sprinks_arr = sprinklers3\n",
    "sprinks_2d = sprinks_arr[:, 0:2]\n",
    "sprinks_tree = kdtree.KDTree(sprinks_arr[:, 0:2])\n",
    "\n",
    "pipe_2d = np.concatenate(plines)[:, 0:2]\n",
    "pipe_2dtree = kdtree.KDTree( pipe_2d)\n",
    "tr = sprinks_tree.query_ball_tree(pipe_2dtree, 1)\n",
    "\n",
    "sprinks_to_pipes = dict()\n",
    "pipes_to_sprinks = defaultdict(set)\n",
    "sprinks_to_pipes_d = dict()\n",
    "for i, x in enumerate(tr):\n",
    "    if len(x) > 0:\n",
    "        dists, pipe_ixs = sprinks_tree.query(pipe_2d[x])\n",
    "        sprinks_to_pipes[i] = x[np.argmin(dists)]\n",
    "        pipes_to_sprinks[x[np.argmin(dists)]].add(i) \n",
    "        sprinks_to_pipes_d[i] = dists[np.argmin(dists)]\n"
   ]
  },
  {
   "cell_type": "markdown",
   "metadata": {},
   "source": [
    "## TRY WITH WHOLE SAT"
   ]
  },
  {
   "cell_type": "code",
   "execution_count": 96,
   "metadata": {},
   "outputs": [],
   "source": [
    "headers, data = lines[0:3], lines[3:]"
   ]
  },
  {
   "cell_type": "code",
   "execution_count": null,
   "metadata": {},
   "outputs": [],
   "source": []
  },
  {
   "cell_type": "code",
   "execution_count": 110,
   "metadata": {},
   "outputs": [
    {
     "name": "stdout",
     "output_type": "stream",
     "text": [
      "1 ['body', '$-1', '-1', '$-1', '$21463', '$-1', '$21464', '#\\r\\n']\n",
      "21464 ['transform', '$-1', '-1', '1', '0', '0', '0', '1', '0', '0', '0', '1', '-1101197.235013285652', '109246.670983092743', '832.9999939502620236', '1', 'rotate', 'no_reflect', 'no_shear', '#\\r\\n']\n",
      "21463 ['lump', '$-1', '-1', '$-1', '$-1', '$64713', '$1', '#\\r\\n']\n",
      "64713 ['shell', '$-1', '-1', '$-1', '$-1', '$-1', '$86505', '$-1', '$21463', '#\\r\\n']\n",
      "86505 ['face', '$108301', '-1', '$-1', '$-1', '$108302', '$64713', '$-1', '$108303', 'reversed', 'double', 'out', '#\\r\\n']\n",
      "108303 ['\\t0.1691308163470010006', '2', '0.171370211494747321', '3', '\\r\\n']\n",
      "108302 ['\\t0.1624126309037620397', '3', '0.1668914211992546803', '2', '0.1680111187731278544', '2', '0.1685709675600644275', '2', '0.1688508919535327002', '2', '\\r\\n']\n",
      "108301 ['\\t0', '2', '1', '2', '\\r\\n']\n"
     ]
    },
    {
     "data": {
      "text/plain": [
       "[['body', '$-1', '-1', '$-1', '$21463', '$-1', '$21464', '#\\r\\n'],\n",
       " ['transform',\n",
       "  '$-1',\n",
       "  '-1',\n",
       "  '1',\n",
       "  '0',\n",
       "  '0',\n",
       "  '0',\n",
       "  '1',\n",
       "  '0',\n",
       "  '0',\n",
       "  '0',\n",
       "  '1',\n",
       "  '-1101197.235013285652',\n",
       "  '109246.670983092743',\n",
       "  '832.9999939502620236',\n",
       "  '1',\n",
       "  'rotate',\n",
       "  'no_reflect',\n",
       "  'no_shear',\n",
       "  '#\\r\\n'],\n",
       " ['lump', '$-1', '-1', '$-1', '$-1', '$64713', '$1', '#\\r\\n'],\n",
       " ['shell',\n",
       "  '$-1',\n",
       "  '-1',\n",
       "  '$-1',\n",
       "  '$-1',\n",
       "  '$-1',\n",
       "  '$86505',\n",
       "  '$-1',\n",
       "  '$21463',\n",
       "  '#\\r\\n'],\n",
       " ['face',\n",
       "  '$108301',\n",
       "  '-1',\n",
       "  '$-1',\n",
       "  '$-1',\n",
       "  '$108302',\n",
       "  '$64713',\n",
       "  '$-1',\n",
       "  '$108303',\n",
       "  'reversed',\n",
       "  'double',\n",
       "  'out',\n",
       "  '#\\r\\n'],\n",
       " ['\\t0.1691308163470010006', '2', '0.171370211494747321', '3', '\\r\\n'],\n",
       " ['\\t0.1624126309037620397',\n",
       "  '3',\n",
       "  '0.1668914211992546803',\n",
       "  '2',\n",
       "  '0.1680111187731278544',\n",
       "  '2',\n",
       "  '0.1685709675600644275',\n",
       "  '2',\n",
       "  '0.1688508919535327002',\n",
       "  '2',\n",
       "  '\\r\\n'],\n",
       " ['\\t0', '2', '1', '2', '\\r\\n']]"
      ]
     },
     "execution_count": 110,
     "metadata": {},
     "output_type": "execute_result"
    }
   ],
   "source": [
    "def dec_sat(bin_line):\n",
    "    return bin_line.decode('ascii').split(' ')\n",
    "\n",
    "\n",
    "def recur_bod(ix):\n",
    "    \n",
    "    seen = set()\n",
    "    others = []\n",
    "    q = [ix]\n",
    "    while q:\n",
    "        this_ix = q.pop()\n",
    "        # print(this_ix)\n",
    "        if this_ix in seen:\n",
    "            continue\n",
    "            \n",
    "        seen.add(this_ix)\n",
    "        raw = data[this_ix]\n",
    "        \n",
    "        chunks = dec_sat(raw)\n",
    "        others.append(chunks)\n",
    "        print(this_ix, chunks)\n",
    "        for c in chunks:\n",
    "            if c[0] == '$' and c != '$-1':\n",
    "                todo = int(c[1:])\n",
    "                # print('todo', todo)\n",
    "                q.append(todo) \n",
    "\n",
    "    return others\n",
    "            \n",
    "\n",
    "# data[108302: 108306]\n",
    "recur_bod(1)"
   ]
  },
  {
   "cell_type": "code",
   "execution_count": null,
   "metadata": {},
   "outputs": [],
   "source": []
  }
 ],
 "metadata": {
  "kernelspec": {
   "display_name": "Python 3",
   "language": "python",
   "name": "python3"
  },
  "language_info": {
   "codemirror_mode": {
    "name": "ipython",
    "version": 3
   },
   "file_extension": ".py",
   "mimetype": "text/x-python",
   "name": "python",
   "nbconvert_exporter": "python",
   "pygments_lexer": "ipython3",
   "version": "3.7.0"
  }
 },
 "nbformat": 4,
 "nbformat_minor": 2
}
