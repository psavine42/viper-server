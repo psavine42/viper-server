{
 "cells": [
  {
   "cell_type": "code",
   "execution_count": 1,
   "metadata": {},
   "outputs": [
    {
     "name": "stdout",
     "output_type": "stream",
     "text": [
      "You can open the visualizer by visiting the following URL:\n",
      "http://127.0.0.1:7000/static/\n",
      "You can open the visualizer by visiting the following URL:\n",
      "http://127.0.0.1:7000/static/\n"
     ]
    }
   ],
   "source": [
    "import os\n",
    "import sys\n",
    "import time\n",
    "import pprint\n",
    "from collections import Counter, defaultdict\n",
    "sys.path.append('/home/psavine/source/viper')\n",
    "sys.path.append(\"../\")\n",
    "\n",
    "\n",
    "import numpy as np\n",
    "import importlib\n",
    "import matplotlib.pyplot as plt\n",
    "\n",
    "import spec.hvac as thvac\n",
    "import src.viper as viper\n",
    "\n",
    "import src.geom as geom\n",
    "import lib.geo as geo\n",
    "from src.geomType import GeomType\n",
    "from scipy import spatial\n",
    "import src.ui.visual as viz3\n",
    "\n",
    "\n",
    "from trimesh.path.path import Path\n",
    "from src.ui import visual\n",
    "from itertools import chain\n",
    "from src.ui.visual import meshcat\n",
    "import shapely.geometry as sg\n",
    "import trimesh\n",
    "import pandas as pd\n",
    "import matplotlib\n",
    "import math\n",
    "import spec.scenario as scene\n",
    "import src.geombase as geombase\n",
    "\n",
    "RL = importlib.reload\n",
    "RL(visual)\n",
    "VIZ = viz3.VIZ\n",
    "\n",
    "_dir = '/home/psavine/source/viper/data/sample/'\n"
   ]
  },
  {
   "cell_type": "code",
   "execution_count": 2,
   "metadata": {},
   "outputs": [
    {
     "name": "stdout",
     "output_type": "stream",
     "text": [
      "4439\n"
     ]
    }
   ],
   "source": [
    "jsond = scene.load_from_json('/home/psavine/source/viper/data/sample/test_sk2.json')\n",
    "\n",
    "RL(thvac)\n",
    "train_mesh = thvac.TestTrain.preprocess_(jsond)\n",
    "print(len(train_mesh))\n",
    "categories = {x.category for i, x in enumerate(train_mesh)}\n",
    "categories = {x:i for i, x in enumerate(categories)}\n",
    "train_ids = {x.id:x for x in train_mesh}\n",
    "train_ixs = {x.id:i for i, x in enumerate(train_mesh)}\n",
    "vs2 = viper.IndexSystem()\n",
    "# ixrs = vs2(train_mesh)"
   ]
  },
  {
   "cell_type": "code",
   "execution_count": 17,
   "metadata": {},
   "outputs": [
    {
     "name": "stdout",
     "output_type": "stream",
     "text": [
      "1\n"
     ]
    },
    {
     "data": {
      "text/plain": [
       "[None]"
      ]
     },
     "execution_count": 17,
     "metadata": {},
     "output_type": "execute_result"
    }
   ],
   "source": [
    "[VIZ['mesh/' +x].delete() \n",
    " for x in {x.category for i, x in enumerate(train_mesh)}]\n",
    "r = [viz3.viz_mesh(x, handle='mesh/' + x.meta['category'], opacity=0.4) \n",
    "     for x in train_mesh]\n",
    "no = []\n",
    "for p in train_mesh:\n",
    "    if p.category == 'Pipes':\n",
    "        if geombase.is_cylinder(p) == False:\n",
    "            no.append(p)\n",
    "print(len(no))\n",
    "\n",
    "[viz3.viz_mesh(x, handle='no', opacity=0.8) for x in no]"
   ]
  },
  {
   "cell_type": "code",
   "execution_count": 18,
   "metadata": {},
   "outputs": [],
   "source": [
    "V.delete('cadhead')\n",
    "V.delete('line')"
   ]
  },
  {
   "cell_type": "code",
   "execution_count": 3,
   "metadata": {},
   "outputs": [],
   "source": [
    "import dxfgrabber\n",
    "dxf = dxfgrabber.readfile(_dir + 'WGFPR07m.dxf')\n",
    "bodies = list(filter(lambda x: isinstance(x, dxfgrabber.dxfentities.Body), dxf.entities))\n",
    "lines = list(filter(lambda x: isinstance(x, dxfgrabber.dxfentities.Line), dxf.entities))\n",
    "inserts = list(filter(lambda x: isinstance(x, dxfgrabber.dxfentities.Insert), dxf.entities))"
   ]
  },
  {
   "cell_type": "code",
   "execution_count": 4,
   "metadata": {},
   "outputs": [],
   "source": [
    "import src.formats.sat as sab\n",
    "RL(sab)\n",
    "reader = sab.SABReader()\n",
    "acis_ents = [reader.read_single(x.acis) for x in bodies]"
   ]
  },
  {
   "cell_type": "code",
   "execution_count": 5,
   "metadata": {},
   "outputs": [
    {
     "data": {
      "text/plain": [
       "0.227488110132509"
      ]
     },
     "execution_count": 5,
     "metadata": {},
     "output_type": "execute_result"
    }
   ],
   "source": [
    "CAD_SCALE = 1 /  25.39999999999999858 \n",
    "ANGLE = 346.9658914 \n",
    "np.radians(360 - ANGLE)"
   ]
  },
  {
   "cell_type": "code",
   "execution_count": 6,
   "metadata": {},
   "outputs": [],
   "source": [
    "def as_line(this, k='point'):\n",
    "    pts = this.children_of_type(k)\n",
    "    if len(pts) == 2:\n",
    "        p1, p2 = pts\n",
    "        return geo.Line(geo.Point(p1.geom), geo.Point(p2.geom))\n",
    "\n",
    "    \n",
    "def as_linexf(this, trs=np.array([0.,0.,0.]), scale=1.):\n",
    "    pts = this.children_of_type('point')\n",
    "    if len(pts) == 2:\n",
    "        xf = this.children_of_type('transform')\n",
    "        if len(xf) == 1:\n",
    "            try:\n",
    "                p1, p2 = pts\n",
    "                p11 = (xf[0].apply(p1.geom) *  scale) + trs\n",
    "                p12 = (xf[0].apply(p2.geom) *  scale) + trs\n",
    "                return geo.Line(geo.Point(p11), geo.Point(p12))\n",
    "            except Exception as e:\n",
    "                return None\n",
    "\n",
    "\n",
    "def dxf_line_to_line(dxline, bsxf=np.array([0.,0.,0.])):\n",
    "    p1, p2 = [np.array(x) - bsxf for x in [dxline.start, dxline.end]] \n",
    "    return geo.Line(geo.Point(p1), geo.Point(p1))\n",
    "\n",
    "\n",
    "def pull_points(acis_blocks):\n",
    "    for i, acis_ents in enumerate(acis_blocks):\n",
    "        pts = list(filter(lambda x: isinstance(x, sab.ACEllipse), acis_ents))\n",
    "        if len(pts) == 2:\n",
    "            p1, p2 = pts\n",
    "            viz3.viz_line(p1.geom, p2.geom, handle='cad/{}'.format(i))\n",
    "\n",
    "\n",
    "def viz_pts(pts, handle, clear=True, **kwargs):\n",
    "    if clear is True:\n",
    "        VIZ[handle].delete()\n",
    "    for i, p in enumerate(pts):\n",
    "        viz3.viz_point(p, handle=handle+'/{}'.format(i), **kwargs)"
   ]
  },
  {
   "cell_type": "code",
   "execution_count": 7,
   "metadata": {
    "scrolled": true
   },
   "outputs": [
    {
     "name": "stdout",
     "output_type": "stream",
     "text": [
      "[-15.4164401  312.02305601 -44.87684516]\n"
     ]
    }
   ],
   "source": [
    "CAD_TRANSLATE = -1* np.array(list(as_linexf(acis_ents[0], scale=CAD_SCALE).points[0].coordinates))\n",
    "# CAD_TRANSLATE[-1] = 0\n",
    "print(CAD_TRANSLATE) \n"
   ]
  },
  {
   "cell_type": "code",
   "execution_count": 8,
   "metadata": {},
   "outputs": [],
   "source": [
    "# RL(viz3)\n",
    "def viz_nodes(ndict):\n",
    "    if isinstance(ndict, dict):\n",
    "        nlist = list(ndict.values())\n",
    "    else:\n",
    "        nlist = ndict\n",
    "    viz3.viz_nodes(nlist, \n",
    "                   handle='nodes', \n",
    "                   thickness=0.08, \n",
    "                   opacity=0.6, \n",
    "                   clear=True)\n",
    "\n",
    "def viz_head():\n",
    "    ddd = [viz3.viz_point(np.array(x.insert) - bsxf,  \n",
    "                          handle='cadhead/{}'.format(i), \n",
    "                          radius=3, \n",
    "                          opacity=0.5) \n",
    "           for i, x in enumerate(sprks)]\n",
    "    \n",
    "\n",
    "def viz_sprink_to_edge(sbests, sprinks):\n",
    "    VIZ['headlink'].delete()\n",
    "    for i, (spr_ix, ngh) in enumerate(sbests.items()):\n",
    "        if ngh is None:\n",
    "            continue\n",
    "        g1, g2 = ngh.geom\n",
    "        pt3d = geo.Point(sprinks[spr_ix])\n",
    "        cp = geo.Point(g1).midpoint_to(geo.Point(g2))\n",
    "        viz3.viz(geo.Line(pt3d, cp), handle='headlink/{}'.format(i))\n"
   ]
  },
  {
   "cell_type": "markdown",
   "metadata": {},
   "source": [
    "# Create Final Lines and Visualize"
   ]
  },
  {
   "cell_type": "code",
   "execution_count": 9,
   "metadata": {},
   "outputs": [
    {
     "name": "stdout",
     "output_type": "stream",
     "text": [
      "2387\n",
      "[[ 26.59407129 -57.14410531  -2.82960107]\n",
      " [ 26.59407129 -57.14410531  -3.09042784]]\n"
     ]
    }
   ],
   "source": [
    "pipes_lines = list(filter(None, \n",
    "                          [as_linexf(x, \n",
    "                                     scale=CAD_SCALE, \n",
    "                                     trs=CAD_TRANSLATE) \n",
    "                           for x in acis_ents]))\n",
    "\n",
    "pipes_long = [x for x in pipes_lines if 0.2 < x.length ]\n",
    "print(len(pipes_long))\n",
    "print(pipes_long[0].numpy)\n",
    "mv = -1 * pipes_long[0].numpy[0]\n",
    "\n",
    "VIZ['line'].delete()\n",
    "viz3.viz_by_index(pipes_long, handle='line', thickness=0.05)"
   ]
  },
  {
   "cell_type": "markdown",
   "metadata": {},
   "source": [
    "## read inserts and visualize"
   ]
  },
  {
   "cell_type": "code",
   "execution_count": 9,
   "metadata": {},
   "outputs": [
    {
     "name": "stdout",
     "output_type": "stream",
     "text": [
      "num sprinklers 1403\n",
      "[-15.4164401  312.02305601 -44.87684516]\n",
      "[  463.1242295  -8199.00927198  1126.13126295]\n",
      "[  2.81679729 -10.77258462   0.        ]\n"
     ]
    }
   ],
   "source": [
    "sprinklers = [x for x in inserts if x.name == '3DM_UPR']\n",
    "print('num sprinklers' , len(sprinklers))\n",
    "# print(mv)\n",
    "print(CAD_TRANSLATE)\n",
    "sample = np.array(sprinklers[2].insert)\n",
    "print(sample)\n",
    "sfn = lambda x: CAD_TRANSLATE  + (np.asarray(x.insert) * CAD_SCALE)\n",
    "\n",
    "sprinklers2 = np.array(list(map(sfn, sprinklers)))\n",
    "sprinklers2[:, -1] = 0\n",
    "print(sprinklers2[2])\n",
    "\n",
    "viz_pts(sprinklers2, 'cadhead', clear=True, radius=0.2, opacity=0.5)"
   ]
  },
  {
   "cell_type": "code",
   "execution_count": 10,
   "metadata": {},
   "outputs": [],
   "source": [
    "from scipy.spatial.distance import cdist \n",
    "import src.formats.skansk as sks\n",
    "RL(sks)\n",
    "\n",
    "def edge_with_id(root_node, eid):\n",
    "    for n in root_node.__iter__(True, True):\n",
    "        for e in n.neighbors(True, True, True):\n",
    "            if e.id == eid:\n",
    "                return e\n",
    "\n",
    "def node_with_id(nd, eid):\n",
    "    for n in nd.__iter__(fwd=True, bkwd=True):\n",
    "        if n.id == eid:\n",
    "            return n\n",
    "\n",
    "        \n",
    "def apply_fn(root_node, fn, edges=True):\n",
    "    seen = set()\n",
    "    for n in root_node.__iter__(True, True):\n",
    "        for e in n.neighbors(True, True, edges):\n",
    "            if e.id not in seen:\n",
    "                seen.add(e.id)\n",
    "                res = fn(e)\n",
    "                if res is not None:\n",
    "                    yield e\n",
    "\n",
    "                    \n",
    "def apply_node_edge_fn(root_node, fn):\n",
    "    seen = set()\n",
    "    for n in root_node.__iter__(True, True):\n",
    "        for e in n.neighbors(True, True, True):\n",
    "            if e.id not in seen:\n",
    "                seen.add(e.id)\n",
    "                res = fn(n, e)\n",
    "                if res is not None:\n",
    "                    yield res           \n",
    "        \n",
    "        \n",
    "def apply_node_fn(root_node, fn):\n",
    "    apply_fn(root_node, fn, edges=False)\n",
    "                    \n",
    "        \n",
    "def wrap_yield(fn):\n",
    "    def run_x(x):\n",
    "        res = fn(x)\n",
    "        if res is True:\n",
    "            return x\n",
    "        else:\n",
    "            return None\n",
    "    return run_x\n",
    "\n",
    "def viz_edge_attr(root_node, k, **kwargs):\n",
    "    for n in root_node.__iter__(True, True):\n",
    "        for e in n.neighbors(True, True, True):\n",
    "            if  e.get(k) is None:\n",
    "                continue\n",
    "            g1, g2 = e.geom\n",
    "            # pipe = str(e.get('is_pipe', None))\n",
    "            viz3.viz_line(g1, g2, handle=viz3.as_path(k,  e.id), **kwargs)\n",
    "\n",
    "\n",
    "def viz_node_attr(root_node, k, v=None, clear=True, **kwargs):\n",
    "    if clear is True:\n",
    "        VIZ[k].delete()\n",
    "    for n in root_node.__iter__(True, True):\n",
    "        if n.get(k) is None:\n",
    "            continue\n",
    "        if v is not None and n.get(k) != v:\n",
    "            continue\n",
    "        viz3.viz_point(n.geom, handle=viz3.as_path(k,  n.id), **kwargs)\n",
    "            \n",
    "            \n",
    "            \n",
    "def as_linecyl(this, trs=np.array([0.,0.,0.]), scale=1.):\n",
    "    line = (this.line.numpy * scale) + trs\n",
    "    \n",
    "    rads = this.radius * scale\n",
    "    this.line = geo.Line(geo.Point(line[0]), geo.Point(line[1]))\n",
    "    this.radius = rads\n",
    "    return this\n",
    "\n",
    "\n",
    "def fix_triangles(root_node_, result):\n",
    "    for lres in result:\n",
    "        tris = [edge_with_id(root_node_, x) for x in lres]\n",
    "        tris = [x for x in tris if x is not None]\n",
    "        if len(tris) == 3:\n",
    "            sks.resolve_triangle(tris)\n",
    "        \n"
   ]
  },
  {
   "cell_type": "code",
   "execution_count": 11,
   "metadata": {},
   "outputs": [
    {
     "name": "stdout",
     "output_type": "stream",
     "text": [
      "14427\n"
     ]
    }
   ],
   "source": [
    "from lib.geo import Point, Line\n",
    "RL(sab)\n",
    "reader = sab.SABReader()\n",
    "acis_ents2 = list(filter(lambda x: x.valid is True,\n",
    "                       map(sab.SACCylinder,\n",
    "                           acis_ents)))\n",
    "                           #map(lambda x: reader.read_single(x.acis),\n",
    "                           #    bodies))))\n",
    "print(len(acis_ents2))\n"
   ]
  },
  {
   "cell_type": "code",
   "execution_count": 12,
   "metadata": {},
   "outputs": [
    {
     "name": "stdout",
     "output_type": "stream",
     "text": [
      "8208\n"
     ]
    }
   ],
   "source": [
    "pipes_cyl = list(\n",
    "    filter(lambda x: x.line.length > x.radius,\n",
    "    filter(lambda x: x and x.valid is True, \n",
    "        map(lambda x: as_linecyl(x,scale=CAD_SCALE, trs=CAD_TRANSLATE) \n",
    "                           ,acis_ents2))))\n",
    "print(len(pipes_cyl))"
   ]
  },
  {
   "cell_type": "code",
   "execution_count": 13,
   "metadata": {},
   "outputs": [],
   "source": [
    "def xfrom(node, scale=1., translate=None, **kwargs):\n",
    "    nd = np.array(list(node.geom)) * scale\n",
    "    if translate is not None:\n",
    "        nd += translate\n",
    "    node.geom = sks.tuplify(nd)\n",
    "    return node"
   ]
  },
  {
   "cell_type": "code",
   "execution_count": 14,
   "metadata": {},
   "outputs": [],
   "source": [
    "import src.formats.skansk as sks\n",
    "import src.propogate as gp\n",
    "from src.structs import Node, Edge\n",
    "RL(sks)\n",
    "RL(gp)\n",
    "import src.ui.visual as V\n",
    "\n",
    "# V.viz_order(rn1, handle='build')\n",
    "# RL(viz3)\n",
    "\"\"\"\n",
    "--------------------------------------------------\n",
    "SAVE THESE SETTINGS. \n",
    "\n",
    "FOR FUCKS SAKE DO NOT DELETE !!!!!!!!!!!!!!!\n",
    "\n",
    "FILTER = 0.3\n",
    "CONNECT = 0.4\n",
    "--------------------------------------------------\n",
    "\"\"\"\n",
    "CAD_ANGLE = np.radians(360 - ANGLE)\n",
    "def build_roots():\n",
    "    RL(sks)\n",
    "    FILTER = 0.3\n",
    "    CONNECT = 0.4\n",
    "    \n",
    "    pipes_long = [x for x in pipes_cyl if x.line.length > FILTER]\n",
    "    # print('filtered pipes:', len(pipes_long))\n",
    "\n",
    "    # Build the Graph\n",
    "    pairs2, tree, pts_ind = sks.connect_by_pairs(pipes_long, factor=CONNECT)\n",
    "    node_dict2 = sks.make_node_dict(pairs2, pts_ind, pipes_long)\n",
    "    node_list, comps_starts = sks.connected_components(list(node_dict2.values()))\n",
    "    comps_starts = np.asarray(comps_starts)\n",
    "    root_nodes = [node_list[i] for i in comps_starts]\n",
    "    # print('final lengths', len(node_list), len(comps_starts))\n",
    "    return root_nodes\n"
   ]
  },
  {
   "cell_type": "code",
   "execution_count": 150,
   "metadata": {},
   "outputs": [],
   "source": [
    "def viz_kif(root_, k, i, **kwargs):\n",
    "    # print(k, kwargs.get(k, None))\n",
    "    if kwargs.get(k, None) is True:\n",
    "        viz3.viz_iter(root_, handle='grp/{}/{}'.format(i, k), \n",
    "                      clear=True, opacity=0.3)\n",
    "    else:\n",
    "        viz3.delete(k)\n",
    "\n",
    "shows = dict(heads=True, edge=True, \n",
    "             before=True, buildo=True, tris=True, move=True)\n",
    "\n",
    "def xprocess(_Nodes, ix=0, v=True, **kwargs):\n",
    "    # Find Logical Root\n",
    "    RL(sks)\n",
    "    RL(gp)\n",
    "    base_root_node = _Nodes[ix]\n",
    "    SR = sks.SpatialRoot()\n",
    "    SR.__call__(base_root_node)\n",
    "    # viz_kif(base_root_node, 'before', ix, **kwargs)\n",
    "    print(SR.best)\n",
    "    \n",
    "    Root = node_with_id(base_root_node, SR.best)\n",
    "\n",
    "    Buildo = gp.BuildOrder()\n",
    "    Mover = sks.Rotator(CAD_ANGLE)\n",
    "    Elbower = sks.DetectElbows()\n",
    "    Triangler = sks.DetectTriangles(build=True)\n",
    "    \n",
    "    # Direct the edges \n",
    "    Root = gp.EdgeDirector()(Root)\n",
    "    Root = Buildo(Root)\n",
    "\n",
    "    tree = sks.resolve_heads(Root, sprinklers2)\n",
    "    # viz_kif(base_root_node, 'heads', ix, **kwargs)\n",
    "        \n",
    "    # Apply Transformts - translate, scale rotate\n",
    "    Root = Mover(Root)\n",
    "    # viz_kif(base_root_node, 'move', ix, **kwargs)\n",
    "    # V.viz_iter(Root, handle='grp/{}/pre'.format(ix), clear=True, opacity=0.4)\n",
    "    \n",
    "    Root = gp.EdgeDirector()(Root)\n",
    "    Root = gp.BuildOrder()(Root)\n",
    "    Root = Triangler(Root)\n",
    "    Root = gp.EdgeDirector()(Root)\n",
    "    \n",
    "    \n",
    "    # Root = sks.FunctionQ(sks.add_ups)(Root)\n",
    "    Root = gp.GraphTrim()(Root, tol=0.01)\n",
    "    # V.viz_iter(Root, handle='grp/{}/tri'.format(ix), clear=True, opacity=0.4)\n",
    "    Root = gp.EdgeDirector()(Root)\n",
    "    Root = sks.FunctionQ(sks.remove_short)(Root, lim=0.25)\n",
    "    \n",
    "    FirstEdges = Root.neighbors(edges=True)\n",
    "    Elbower(FirstEdges)\n",
    "    \n",
    "    \n",
    "    Root = gp.EdgeDirector()(Root)\n",
    "    if v is True:\n",
    "        viz3.viz_iter(Root, handle='grp/{}/final'.format(ix), \n",
    "                      clear=True, opacity=0.4)\n",
    "\n",
    "        # viz_node_attr(Root, 'is_head', clear=True, radius=0.02)\n",
    "    else:\n",
    "        VIZ['grp/{}/final'.format(ix)].delete()\n",
    "    return Root # , tree"
   ]
  },
  {
   "cell_type": "code",
   "execution_count": 179,
   "metadata": {},
   "outputs": [
    {
     "name": "stdout",
     "output_type": "stream",
     "text": [
      "SpatialRoot seen nodes :  330\n",
      "4014251\n",
      "EdgeDirector seen nodes :  330\n",
      "BuildOrder seen nodes :  330\n",
      "KDTreeIndex seen nodes :  330\n",
      "Rotator seen nodes :  239\n",
      "EdgeDirector seen nodes :  239\n",
      "BuildOrder seen nodes :  239\n",
      "DetectTrianglesOld seen nodes :  229\n",
      "EdgeDirector seen nodes :  211\n",
      "GraphTrim seen nodes :  211\n",
      "EdgeDirector seen nodes :  98\n",
      "FunctionQ seen nodes :  91\n",
      "DetectElbows seen nodes :  90\n",
      "EdgeDirector seen nodes :  91\n"
     ]
    }
   ],
   "source": [
    "RL(sks)\n",
    "# RL(V)\n",
    "root_nodes = build_roots()\n",
    "[V.delete(x) for x in ['tee1', 'edge', 'tee2', 'tee3', 'long', 'short']]\n",
    "\n",
    "rn0  = xprocess(root_nodes,  ix=0, v=True)\n",
    "V.viz_order(rn0, clear=True)\n",
    "viz_edge_attr(rn0, 'tap_edge', clear=True, radius=0.02)\n",
    "# viz_node_attr(rn0, 'tee_mid', clear=True, radius=0.05)\n",
    "# viz_node_attr(rn0, 'tee_index', clear=True, radius=0.03)"
   ]
  },
  {
   "cell_type": "code",
   "execution_count": 168,
   "metadata": {},
   "outputs": [
    {
     "name": "stdout",
     "output_type": "stream",
     "text": [
      "You can open the visualizer by visiting the following URL:\n",
      "http://127.0.0.1:7000/static/\n"
     ]
    }
   ],
   "source": [
    "RL(V)\n",
    "V.viz_heirarchical(rn0, 'htest', clear=True)\n",
    "# TO_REVIT(rn0, 11)"
   ]
  },
  {
   "cell_type": "code",
   "execution_count": 166,
   "metadata": {},
   "outputs": [
    {
     "data": {
      "text/plain": [
       "[]"
      ]
     },
     "execution_count": 166,
     "metadata": {},
     "output_type": "execute_result"
    }
   ],
   "source": []
  },
  {
   "cell_type": "code",
   "execution_count": 114,
   "metadata": {},
   "outputs": [
    {
     "data": {
      "text/plain": [
       "(src.propogate.propagators.GraphTrim,\n",
       " src.propogate.base.QueuePropogator,\n",
       " object)"
      ]
     },
     "execution_count": 114,
     "metadata": {},
     "output_type": "execute_result"
    }
   ],
   "source": [
    "import inspect\n",
    "RL(src.propogate.propagators)\n",
    "RL(src.propogate)\n",
    "RL(gp)\n",
    "inspect.getmro(gp.GraphTrim)"
   ]
  },
  {
   "cell_type": "code",
   "execution_count": 180,
   "metadata": {},
   "outputs": [
    {
     "name": "stdout",
     "output_type": "stream",
     "text": [
      "EdgeDirector seen nodes :  91\n",
      "Annotator seen nodes :  91\n",
      "BuildOrder seen nodes :  91\n",
      "17\n",
      "90 71 16\n"
     ]
    }
   ],
   "source": [
    "RL(sks)\n",
    "# rn0 = sks.LongestPath()(rn0)\n",
    "TO_REVIT(rn0, 14)"
   ]
  },
  {
   "cell_type": "code",
   "execution_count": 174,
   "metadata": {},
   "outputs": [],
   "source": [
    "V.viz_order(rn0, 'htest', clear=True)"
   ]
  },
  {
   "cell_type": "markdown",
   "metadata": {},
   "source": [
    "----------------------------------------------"
   ]
  },
  {
   "cell_type": "code",
   "execution_count": 1493,
   "metadata": {},
   "outputs": [
    {
     "name": "stdout",
     "output_type": "stream",
     "text": [
      "0.4724310517187339\n"
     ]
    }
   ],
   "source": [
    "# todo\n",
    "def low_line(pts_index):\n",
    "    lowest_ix = np.argsort(pts_index[:, -1])\n",
    "    lowest_spr = pts_index[lowest_ix[0:2]]\n",
    "    return Line(Point(lowest_spr[0]), Point(lowest_spr[1]))\n",
    "\n",
    "\n",
    "CAD_Line = low_line(pts_ind)\n",
    "p1, p2 = CAD_Line.points\n",
    "rot = sks.Rotator(CAD_ANGLE)\n",
    "cln = CAD_Line.moved(rot.M)\n",
    "\n",
    "\n",
    "REV_Line = low_line(rvpts_index)\n",
    "\n",
    "print(CAD_Line.length / REV_Line.length)\n",
    "\n",
    "viz3.viz(REV_Line, handle='low/rev', thickness=1)\n",
    "viz3.viz(cln, handle='low/cad', thickness=1)\n",
    "\n"
   ]
  },
  {
   "cell_type": "code",
   "execution_count": 177,
   "metadata": {},
   "outputs": [],
   "source": [
    "import src.render.render_propogators as rps\n",
    "import src.process as process\n",
    "import json\n",
    "RL(rps)\n",
    "RL(sks)\n",
    "RL(process)\n",
    "SHRINK = -0.05\n",
    "OUTPATH = '/home/psavine/source/viper/data/out/sks/'\n",
    "\n",
    "def save_outs(args, pth):\n",
    "    geom, inds, syms = args\n",
    "    res = {'geom': geom, 'indicies': inds, 'symbols': syms}\n",
    "    print(len(geom), len(inds), len(syms))\n",
    "    st = str(round(time.time(), 0))\n",
    "    # data = json.dumps(res)\n",
    "    with open('{}to-revit-{}.json'.format(OUTPATH, pth), 'w') as F:\n",
    "        json.dump(res, F)\n",
    "        \n",
    "        \n",
    "def _prepare(start, end, last=False):\n",
    "    Shrink = -0.01\n",
    "    edge = start.edge_to(end)\n",
    "    radius = edge.get('radius')\n",
    "    if radius is None:\n",
    "        radius = 1.\n",
    "    crv = geom.MepCurve2d(start.geom, end.geom)\n",
    "    if last is False:\n",
    "        p1, p2 = crv.extend(Shrink, Shrink).points\n",
    "    else:\n",
    "        p1, p2 = crv.extend(Shrink, 0).points\n",
    "\n",
    "    if math.isnan(p1[0]):\n",
    "        print(start, end, p1, p2)\n",
    "    vec = list(p1) + list(p2) + [radius]\n",
    "    return vec    \n",
    "\n",
    "\n",
    "def _preparep(start, end, last=False):\n",
    "    Shrink = -0.01\n",
    "    edge = start.edge_to(end)\n",
    "    radius = edge.get('radius')\n",
    "    if radius is None:\n",
    "        radius = 1.\n",
    "    vec = list(start.geom) + list(end.geom) + [radius]\n",
    "    return vec    \n",
    "\n",
    "\n",
    "def TO_REVIT(root_nd, n, prep=_preparep):\n",
    "    anno = sks.Annotator('$create', mapping={'has_head': 3})\n",
    "    gp.EdgeDirector()(root_nd)\n",
    "    anno(root_nd)\n",
    "\n",
    "    gp.BuildOrder()(root_nd)\n",
    "\n",
    "    print(anno._pos)\n",
    "    res = process.finalize(root_nd, prep)\n",
    "\n",
    "    save_outs(res, n)\n",
    "\n",
    "def TO_REVIT2(root_nd, n):\n",
    "    anno = sks.Annotator('$create', mapping={'has_head': 3})\n",
    "    gp.EdgeDirector()(root_nd)\n",
    "    anno(root_nd)\n",
    "\n",
    "    gp.BuildOrder()(root_nd)\n",
    "\n",
    "    print(anno._pos)\n",
    "    res = process.finalize(root_nd, _prepare)\n",
    "\n",
    "    save_outs(res, n)"
   ]
  },
  {
   "cell_type": "code",
   "execution_count": 119,
   "metadata": {},
   "outputs": [
    {
     "name": "stdout",
     "output_type": "stream",
     "text": [
      "EdgeDirector seen nodes :  292\n",
      "Annotator seen nodes :  292\n",
      "BuildOrder seen nodes :  292\n",
      "0\n",
      "291 180 0\n"
     ]
    }
   ],
   "source": []
  },
  {
   "cell_type": "code",
   "execution_count": 153,
   "metadata": {},
   "outputs": [],
   "source": [
    "RL(geombase)\n",
    "pts = []\n",
    "for msh in train_mesh:\n",
    "    if msh.category =='Pipes':\n",
    "        ln = geombase.as_cylinder(msh)\n",
    "        if ln is not None:\n",
    "            pts.append(ln.numpy)\n",
    "rvpts_index = np.concatenate(pts)"
   ]
  },
  {
   "cell_type": "code",
   "execution_count": 178,
   "metadata": {},
   "outputs": [
    {
     "name": "stdout",
     "output_type": "stream",
     "text": [
      "False\n",
      "False\n",
      "False\n",
      "[-0.001  1.     0.013]\n",
      "[0. 0. 1.]\n",
      "[ 0.     1.    -0.008]\n"
     ]
    }
   ],
   "source": [
    "import src.propogate.propagators as gpp\n",
    "RL(gpp)\n",
    "\n",
    "def buildo(node, value=-2, **kwargs):\n",
    "    return node.get('order', -1) == value\n",
    "\n",
    "def slope(crv):\n",
    "    npp = crv.numpy\n",
    "    # print(crv.length)\n",
    "    z = npp[0, -1] - npp[1, -1]\n",
    "    \n",
    "    return np.abs(z / Line(*map(Point, crv.points)).length)\n",
    "\n",
    "\n",
    "\n",
    "fedge = rn1.successors(edges=True)[0]\n",
    "\n",
    "n10 = gpp.Where(buildo, edges=True)(fedge, value=10)\n",
    "n11 = gpp.Where(buildo, edges=True)(fedge, value=11)\n",
    "n8 = gpp.Where(buildo, edges=True)(fedge, value=8)\n",
    "\n",
    "print(n8.similar_direction(n11))\n",
    "print(n8.similar_direction(n10))\n",
    "print(n10.similar_direction(n8))\n",
    "# print(n10.direction(n8))\n",
    "\n",
    "edges__ = [n10, n11, n8]\n",
    "\n",
    "np.allclose(n10.direction, n10.direction)\n",
    "\n",
    "[print(np.round(x.direction, 3)) for x in edges__]\n",
    "preped = [_prepare(x.source, x.target) for x in edges__]\n",
    "res = [preped[0][0:3], preped[1][0:3], preped[2][3:6]]\n",
    "for i, r in enumerate(res):\n",
    "    V.viz_point(r, handle='test/' + str(i), radius=0.04)"
   ]
  },
  {
   "cell_type": "code",
   "execution_count": 154,
   "metadata": {},
   "outputs": [],
   "source": [
    "\n",
    "viz3.viz_point(rn1.geom, handle='test')"
   ]
  },
  {
   "cell_type": "code",
   "execution_count": 169,
   "metadata": {},
   "outputs": [
    {
     "data": {
      "text/plain": [
       "0.25"
      ]
     },
     "execution_count": 169,
     "metadata": {},
     "output_type": "execute_result"
    }
   ],
   "source": [
    "scs = rn1.successors(edges=True)\n",
    "[x.curve.length for x in scs]\n",
    "scs[1].target.id\n",
    "Line(*map(Point, scs[1].curve.points)).length\n"
   ]
  },
  {
   "cell_type": "code",
   "execution_count": 152,
   "metadata": {},
   "outputs": [
    {
     "name": "stdout",
     "output_type": "stream",
     "text": [
      "4.424903815802851\n",
      "0.0\n",
      "4.724409448892871\n",
      "0.0\n",
      "4.724416227465029\n",
      "0.0\n",
      "4.724402670148194\n",
      "0.0\n",
      "4.4881889763999965\n",
      "0.0\n",
      "1.4957284255232712\n",
      "0.0\n",
      "2.478527986093234\n",
      "5.669292060701303\n",
      "1.4957555886543963\n",
      "4.682671853122132\n",
      "4.488188976346123\n",
      "0.0\n",
      "4.724395891408776\n",
      "0.0\n",
      "4.724423006181383\n",
      "0.0\n",
      "4.72440944888227\n",
      "0.0\n",
      "4.424903412963972\n",
      "0.0\n",
      "0.067175219912541\n",
      "0.9865987346366425\n",
      "0.07236078501142551\n",
      "2.1760124066530855\n",
      "0.034878687351237996\n",
      "26.190306445110405\n",
      "4.717697120001906\n",
      "0.9564337814230855\n",
      "5.669293752049265\n",
      "1.4958002112352013\n",
      "1.4957740893192808\n",
      "2.478518031069224\n",
      "4.488188976443702\n",
      "0.0\n",
      "4.7244094488386565\n",
      "0.0\n",
      "4.724409448839083\n",
      "0.0\n",
      "4.724409448774793\n",
      "0.0\n",
      "4.424903789235771\n",
      "0.0\n",
      "4.488188976393822\n",
      "0.0\n",
      "4.724409448746627\n",
      "0.0\n",
      "4.724409448799719\n",
      "0.0\n",
      "4.724409448872876\n",
      "0.0\n",
      "4.42490342864997\n",
      "0.0\n",
      "5.669296178601118\n",
      "1.4958606619651829\n",
      "0.9363991779603119\n",
      "1.4958965948616998\n",
      "0.23363305708584128\n",
      "0.37765748035644303\n",
      "0.18956692907133119\n",
      "0.37765748029841023\n",
      "4.488188976393715\n",
      "0.0\n",
      "4.724409448788109\n",
      "0.0\n",
      "4.724409448798654\n",
      "0.0\n",
      "4.724409448824559\n",
      "0.0\n",
      "4.424902391274515\n",
      "0.0\n",
      "4.4881889764235225\n",
      "0.0\n",
      "4.724409448860001\n",
      "0.0\n",
      "4.724409448770018\n",
      "0.0\n",
      "4.724409448764064\n",
      "0.0\n",
      "4.424902728671854\n",
      "0.0\n",
      "1.8897760599917932\n",
      "26.16150198298772\n",
      "0.20534062338771555\n",
      "0.06715962247030373\n",
      "4.679992222155401\n",
      "0.9965476587520543\n",
      "1.4955970793016566\n",
      "5.669275061292631\n",
      "4.488188976366911\n",
      "0.0\n",
      "4.724409448855802\n",
      "0.0\n",
      "4.724409448802348\n",
      "0.0\n",
      "4.724409448836951\n",
      "0.0\n",
      "4.424906803083929\n",
      "0.0\n",
      "2.473782276660298\n",
      "1.4957074343917183\n",
      "4.4881889764043486\n",
      "0.0\n",
      "4.724409448831317\n",
      "0.0\n",
      "4.724409448774211\n",
      "0.0\n",
      "4.72440944885129\n",
      "0.0\n",
      "4.424904665979967\n",
      "0.0\n",
      "5.666760255284589\n",
      "1.3933970313343287\n",
      "1.495883996900292\n",
      "4.32915191918172\n",
      "4.488188976385368\n",
      "0.0\n",
      "4.724409448848057\n",
      "0.0\n",
      "4.724409448789289\n",
      "0.0\n",
      "4.724409448837278\n",
      "0.0\n",
      "4.424902302166999\n",
      "0.0\n",
      "2.785585339577021\n",
      "1.4958456405036153\n",
      "0.19449472947941815\n",
      "0.5800985751239749\n",
      "4.03615329459966\n",
      "1.386897907383071\n",
      "0.15023851057178905\n",
      "0.6826830263489558\n",
      "2.834645669275595\n",
      "0.0\n",
      "3.0708638874509067\n",
      "0.0\n",
      "3.307086614182246\n",
      "0.0\n",
      "4.724409448752398\n",
      "0.0\n",
      "4.724409448823195\n",
      "0.0\n",
      "4.424907368262908\n",
      "0.0\n",
      "4.488186722067503\n",
      "0.0\n",
      "4.724409448856152\n",
      "0.0\n",
      "4.724409448760241\n",
      "0.0\n",
      "4.724409448845024\n",
      "0.0\n",
      "4.424902667243303\n",
      "0.0\n",
      "4.488188976370591\n",
      "0.0\n",
      "4.724409448823344\n",
      "0.0\n",
      "4.724409448743302\n",
      "0.0\n",
      "4.7244094489301185\n",
      "0.0\n",
      "4.424907098401719\n",
      "0.0\n",
      "5.669282139200246\n",
      "1.4958149735538626\n",
      "1.4958649840446037\n",
      "0.9364097558524341\n",
      "4.48818897640687\n",
      "0.0\n",
      "4.724395891492193\n",
      "0.0\n",
      "4.7244230062039065\n",
      "0.0\n",
      "4.724409448833413\n",
      "0.0\n",
      "4.424902389991332\n",
      "0.0\n",
      "0.2336330550131355\n",
      "0.3776574802987339\n",
      "0.18956692916391965\n",
      "0.3776574803247704\n",
      "0.2335982085737677\n",
      "3.3243637462454676\n",
      "1.495992475003406\n",
      "5.6692947687738116\n",
      "4.4881889763715135\n",
      "0.0\n",
      "4.724395891452346\n",
      "0.0\n",
      "4.724423006221556\n",
      "0.0\n",
      "4.724409448838273\n",
      "0.0\n",
      "4.424901628487789\n",
      "0.0\n",
      "5.3540426588803705\n",
      "1.49596095849955\n",
      "1.4959106403767248\n",
      "4.931433769271414\n",
      "4.488188976415155\n",
      "0.0\n",
      "4.724395891405082\n",
      "0.0\n",
      "4.724423006208525\n",
      "0.0\n",
      "4.7244094488144555\n",
      "0.0\n",
      "4.424901957352518\n",
      "0.0\n",
      "0.15199387799853017\n",
      "1.3897423526158306\n",
      "4.488188976362092\n",
      "0.0\n",
      "4.724395891431514\n",
      "0.0\n",
      "4.724423006189269\n",
      "0.0\n",
      "4.724409448873317\n",
      "0.0\n",
      "4.4249024687786696\n",
      "0.0\n",
      "4.488188976388268\n",
      "0.0\n",
      "4.724395891468248\n",
      "0.0\n",
      "4.724423006184878\n",
      "0.0\n",
      "4.724409448804991\n",
      "0.0\n",
      "4.424901719657584\n",
      "0.0\n",
      "4.488188976432937\n",
      "0.0\n",
      "4.7243958914343835\n",
      "0.0\n",
      "4.7244230061873935\n",
      "0.0\n",
      "4.724409448804139\n",
      "0.0\n",
      "4.4249027333680155\n",
      "0.0\n"
     ]
    }
   ],
   "source": [
    "x = [[print(x.curve.length) for x in n.successors(edges=True)] for n in rn1.__iter__()]"
   ]
  },
  {
   "cell_type": "markdown",
   "metadata": {},
   "source": [
    "# --------------------------------------------------------------"
   ]
  },
  {
   "cell_type": "code",
   "execution_count": 1385,
   "metadata": {},
   "outputs": [],
   "source": [
    "for i in range(len(comps_starts)):\n",
    "    viz3.viz_iter(root_nodes[i], handle='nodec/{}'.format(i),\n",
    "                  clear=True, opacity=0.3)"
   ]
  },
  {
   "cell_type": "markdown",
   "metadata": {},
   "source": [
    "DetectTriangles seen nodes :  330   \n",
    "DetectElbows seen nodes :  347   \n",
    "elbows: 28 , tirangles 18   \n"
   ]
  },
  {
   "cell_type": "code",
   "execution_count": 1414,
   "metadata": {},
   "outputs": [
    {
     "name": "stdout",
     "output_type": "stream",
     "text": [
      "[[ 2.42334e+02  0.00000e+00 -1.26000e-01]\n",
      " [ 2.36876e+02  0.00000e+00 -1.78000e-01]]\n",
      "5.4582469151953035\n",
      "Line(Point(236.876, 0, 0), Point(242.334, 0, 0))\n",
      "0.0\n",
      "None [0. 0. 0.]\n",
      "5.458492828173617 5.458492828173617\n"
     ]
    }
   ],
   "source": [
    "RL(sks)\n",
    "\n",
    "RL(geo)\n",
    "from lib.geo import Line, Point # , Movement\n",
    "import lib.meshcat.src.meshcat.transformations as txf\n",
    "\n",
    "\n",
    "def rotator(orienting_edge):\n",
    "    rnt = np.array([orienting_edge.source.geom, \n",
    "                    orienting_edge.target.geom])\n",
    "\n",
    "    rnt[:, -1] = 0\n",
    "\n",
    "    norm = Line(Point(rnt[1]), Point(rnt[0]))\n",
    "    print(norm)\n",
    "    base = Line(Point(0., 0., 0.), Point(1., 0, 0))\n",
    "    m = geo.Movement(norm, base)\n",
    "    \n",
    "    angle = norm.angle_to(base)\n",
    "    print(angle)\n",
    "    return m\n",
    "    # return -txf.rotation_matrix(angle, [0.,0., 1], rnt[1])[:3, :3]\n",
    "    \n",
    "\n",
    "edg = edge_with_id(ROOT, 4438916)\n",
    "arr = np.asarray([list(edg.source.geom), list(edg.target.geom)])\n",
    "print(np.round(arr, 3))\n",
    "print(edg.curve.length)\n",
    "M = rotator(edg)\n",
    "\n",
    "print(M.q, M.dr)\n",
    "p1 = Point(edg.source.geom)\n",
    "p2 = Point(edg.target.geom)\n",
    "ln = Line(Point(edg.source.geom), Point(edg.target.geom))\n",
    "\n",
    "\n",
    "md = ln.moved(M)\n",
    "print(ln.length, md.length)\n",
    "\n"
   ]
  },
  {
   "cell_type": "markdown",
   "metadata": {},
   "source": [
    "### Connect Heads"
   ]
  },
  {
   "cell_type": "markdown",
   "metadata": {
    "scrolled": true
   },
   "source": [
    "## MISC TESTING\n"
   ]
  },
  {
   "cell_type": "code",
   "execution_count": 1031,
   "metadata": {},
   "outputs": [
    {
     "name": "stdout",
     "output_type": "stream",
     "text": [
      "<Edge>:((58.17832921906061, -128.39112719713268, 0.3211833299301574), (57.19465048862049, -124.14188319947925, 0.29480801374617727)), {'is_pipe': True}\n"
     ]
    },
    {
     "data": {
      "text/plain": [
       "<src.structs.node.Node at 0x7f013a46cac8>"
      ]
     },
     "execution_count": 1031,
     "metadata": {},
     "output_type": "execute_result"
    }
   ],
   "source": [
    "import src.propogate\n",
    "# RL(src.propogate.base)\n",
    "RL(sks)\n",
    "\n",
    "root = edge_with_id(root_nodes[0], 1275321)\n",
    "nd = root.source\n",
    "print(root)\n",
    "sks.EdgeDirectorQ()(nd)\n"
   ]
  },
  {
   "cell_type": "code",
   "execution_count": 1035,
   "metadata": {},
   "outputs": [
    {
     "data": {
      "text/plain": [
       "1158"
      ]
     },
     "execution_count": 1035,
     "metadata": {},
     "output_type": "execute_result"
    }
   ],
   "source": [
    "VIZ['nodec'].delete() \n",
    "viz3.viz_iter(nd, handle='nodec/0', \n",
    "                   opacity=0.3)  \n",
    "\n",
    "len(list(nd.__iter__(fwd=True, bkwd=True)))"
   ]
  },
  {
   "cell_type": "code",
   "execution_count": 357,
   "metadata": {},
   "outputs": [
    {
     "data": {
      "text/plain": [
       "array([  391.57757842, -7925.38562256,  1139.87186712])"
      ]
     },
     "execution_count": 357,
     "metadata": {},
     "output_type": "execute_result"
    }
   ],
   "source": [
    "sprinks_arr = sprinklers3\n",
    "sprinks_2d = sprinks_arr[:, 0:2]\n",
    "sprinks_tree = kdtree.KDTree(sprinks_arr[:, 0:2])\n",
    "\n",
    "pipe_2d = np.concatenate(plines)[:, 0:2]\n",
    "pipe_2dtree = kdtree.KDTree( pipe_2d)\n",
    "tr = sprinks_tree.query_ball_tree(pipe_2dtree, 1)\n",
    "\n",
    "sprinks_to_pipes = dict()\n",
    "pipes_to_sprinks = defaultdict(set)\n",
    "sprinks_to_pipes_d = dict()\n",
    "for i, x in enumerate(tr):\n",
    "    if len(x) > 0:\n",
    "        dists, pipe_ixs = sprinks_tree.query(pipe_2d[x])\n",
    "        sprinks_to_pipes[i] = x[np.argmin(dists)]\n",
    "        pipes_to_sprinks[x[np.argmin(dists)]].add(i) \n",
    "        sprinks_to_pipes_d[i] = dists[np.argmin(dists)]\n"
   ]
  },
  {
   "cell_type": "markdown",
   "metadata": {},
   "source": [
    "## TRY WITH WHOLE SAT"
   ]
  },
  {
   "cell_type": "code",
   "execution_count": 96,
   "metadata": {},
   "outputs": [],
   "source": [
    "headers, data = lines[0:3], lines[3:]"
   ]
  },
  {
   "cell_type": "code",
   "execution_count": null,
   "metadata": {},
   "outputs": [],
   "source": []
  },
  {
   "cell_type": "code",
   "execution_count": 110,
   "metadata": {},
   "outputs": [
    {
     "name": "stdout",
     "output_type": "stream",
     "text": [
      "1 ['body', '$-1', '-1', '$-1', '$21463', '$-1', '$21464', '#\\r\\n']\n",
      "21464 ['transform', '$-1', '-1', '1', '0', '0', '0', '1', '0', '0', '0', '1', '-1101197.235013285652', '109246.670983092743', '832.9999939502620236', '1', 'rotate', 'no_reflect', 'no_shear', '#\\r\\n']\n",
      "21463 ['lump', '$-1', '-1', '$-1', '$-1', '$64713', '$1', '#\\r\\n']\n",
      "64713 ['shell', '$-1', '-1', '$-1', '$-1', '$-1', '$86505', '$-1', '$21463', '#\\r\\n']\n",
      "86505 ['face', '$108301', '-1', '$-1', '$-1', '$108302', '$64713', '$-1', '$108303', 'reversed', 'double', 'out', '#\\r\\n']\n",
      "108303 ['\\t0.1691308163470010006', '2', '0.171370211494747321', '3', '\\r\\n']\n",
      "108302 ['\\t0.1624126309037620397', '3', '0.1668914211992546803', '2', '0.1680111187731278544', '2', '0.1685709675600644275', '2', '0.1688508919535327002', '2', '\\r\\n']\n",
      "108301 ['\\t0', '2', '1', '2', '\\r\\n']\n"
     ]
    },
    {
     "data": {
      "text/plain": [
       "[['body', '$-1', '-1', '$-1', '$21463', '$-1', '$21464', '#\\r\\n'],\n",
       " ['transform',\n",
       "  '$-1',\n",
       "  '-1',\n",
       "  '1',\n",
       "  '0',\n",
       "  '0',\n",
       "  '0',\n",
       "  '1',\n",
       "  '0',\n",
       "  '0',\n",
       "  '0',\n",
       "  '1',\n",
       "  '-1101197.235013285652',\n",
       "  '109246.670983092743',\n",
       "  '832.9999939502620236',\n",
       "  '1',\n",
       "  'rotate',\n",
       "  'no_reflect',\n",
       "  'no_shear',\n",
       "  '#\\r\\n'],\n",
       " ['lump', '$-1', '-1', '$-1', '$-1', '$64713', '$1', '#\\r\\n'],\n",
       " ['shell',\n",
       "  '$-1',\n",
       "  '-1',\n",
       "  '$-1',\n",
       "  '$-1',\n",
       "  '$-1',\n",
       "  '$86505',\n",
       "  '$-1',\n",
       "  '$21463',\n",
       "  '#\\r\\n'],\n",
       " ['face',\n",
       "  '$108301',\n",
       "  '-1',\n",
       "  '$-1',\n",
       "  '$-1',\n",
       "  '$108302',\n",
       "  '$64713',\n",
       "  '$-1',\n",
       "  '$108303',\n",
       "  'reversed',\n",
       "  'double',\n",
       "  'out',\n",
       "  '#\\r\\n'],\n",
       " ['\\t0.1691308163470010006', '2', '0.171370211494747321', '3', '\\r\\n'],\n",
       " ['\\t0.1624126309037620397',\n",
       "  '3',\n",
       "  '0.1668914211992546803',\n",
       "  '2',\n",
       "  '0.1680111187731278544',\n",
       "  '2',\n",
       "  '0.1685709675600644275',\n",
       "  '2',\n",
       "  '0.1688508919535327002',\n",
       "  '2',\n",
       "  '\\r\\n'],\n",
       " ['\\t0', '2', '1', '2', '\\r\\n']]"
      ]
     },
     "execution_count": 110,
     "metadata": {},
     "output_type": "execute_result"
    }
   ],
   "source": [
    "def dec_sat(bin_line):\n",
    "    return bin_line.decode('ascii').split(' ')\n",
    "\n",
    "\n",
    "def recur_bod(ix):\n",
    "    \n",
    "    seen = set()\n",
    "    others = []\n",
    "    q = [ix]\n",
    "    while q:\n",
    "        this_ix = q.pop()\n",
    "        # print(this_ix)\n",
    "        if this_ix in seen:\n",
    "            continue\n",
    "            \n",
    "        seen.add(this_ix)\n",
    "        raw = data[this_ix]\n",
    "        \n",
    "        chunks = dec_sat(raw)\n",
    "        others.append(chunks)\n",
    "        print(this_ix, chunks)\n",
    "        for c in chunks:\n",
    "            if c[0] == '$' and c != '$-1':\n",
    "                todo = int(c[1:])\n",
    "                # print('todo', todo)\n",
    "                q.append(todo) \n",
    "\n",
    "    return others\n",
    "            \n",
    "\n",
    "# data[108302: 108306]\n",
    "recur_bod(1)"
   ]
  },
  {
   "cell_type": "code",
   "execution_count": null,
   "metadata": {},
   "outputs": [],
   "source": []
  }
 ],
 "metadata": {
  "kernelspec": {
   "display_name": "Python 3",
   "language": "python",
   "name": "python3"
  },
  "language_info": {
   "codemirror_mode": {
    "name": "ipython",
    "version": 3
   },
   "file_extension": ".py",
   "mimetype": "text/x-python",
   "name": "python",
   "nbconvert_exporter": "python",
   "pygments_lexer": "ipython3",
   "version": "3.7.0"
  }
 },
 "nbformat": 4,
 "nbformat_minor": 2
}
